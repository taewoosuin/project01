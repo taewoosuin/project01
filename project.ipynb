{
  "nbformat": 4,
  "nbformat_minor": 0,
  "metadata": {
    "colab": {
      "provenance": []
    },
    "kernelspec": {
      "name": "python3",
      "display_name": "Python 3"
    },
    "language_info": {
      "name": "python"
    }
  },
  "cells": [
    {
      "cell_type": "code",
      "source": [
        "from google.colab import drive\n",
        "drive.mount('/content/drive')"
      ],
      "metadata": {
        "id": "dRkV2wzAV3ec"
      },
      "execution_count": null,
      "outputs": []
    },
    {
      "cell_type": "markdown",
      "source": [
        "**MAIN**"
      ],
      "metadata": {
        "id": "NJcLoyruoFiq"
      }
    },
    {
      "cell_type": "code",
      "execution_count": null,
      "metadata": {
        "id": "0kfj0rqRVy5B"
      },
      "outputs": [],
      "source": [
        "import pandas as pd\n",
        "import numpy as np\n",
        "import matplotlib.pyplot as plt\n",
        "import seaborn as sns\n",
        "import re\n",
        "from IPython.display import HTML\n",
        "\n",
        "plt.rc('font', family='NanumGothic')\n",
        "\n",
        "file_path = \"/content/drive/MyDrive/Colab Notebooks/01 DATA/accidentInfoList.CSV\"\n",
        "df = pd.read_csv(file_path, encoding='cp949')"
      ]
    },
    {
      "cell_type": "code",
      "source": [
        "#  미사용 피처 삭제\n",
        "df.drop(columns=['사고번호'], inplace=True)\n",
        "# '사고일시' 열을 변환\n",
        "df['사고일시'] = pd.to_datetime(df['사고일시'], format='%Y년 %m월 %d일 %H시')\n",
        "# '시군구' 피처에서 '구' 이전의 정보만 남기기\n",
        "df['시군구'] = df['시군구'].apply(lambda x: x.split(' ')[1])\\\n",
        "# ECLO 피처 생성\n",
        "df['ECLO'] = df['사망자수'] * 10 + df['중상자수'] * 5 + df['경상자수'] * 3 + df['부상신고자수'] * 1\n",
        "\n",
        "# 결측치 처리\n",
        "df['피해운전자 차종'].fillna('NaN', inplace=True)\n",
        "df['피해운전자 성별'].fillna('NaN', inplace=True)\n",
        "df['피해운전자 상해정도'].fillna('상해없음', inplace=True)\n"
      ],
      "metadata": {
        "id": "WXdbcio6Jwp2"
      },
      "execution_count": null,
      "outputs": []
    },
    {
      "cell_type": "code",
      "source": [
        "# 숫자 추출 함수 생성\n",
        "def extract_numbers_from_age(age):\n",
        "    numbers = re.findall(r'\\d+', str(age))\n",
        "    if numbers:\n",
        "        return int(numbers[0])\n",
        "    else:\n",
        "        return np.nan\n",
        "\n",
        "# 문자 데이터 제거 및 숫자만 추출\n",
        "df['가해운전자 연령'] = df['가해운전자 연령'].apply(extract_numbers_from_age)\n",
        "df['피해운전자 연령'] = df['피해운전자 연령'].apply(extract_numbers_from_age)\n",
        "\n",
        "# 결측치를 평균으로 대체\n",
        "mean_age_driver = round(df['가해운전자 연령'].mean(), 1)\n",
        "mean_age_victim = round(df['피해운전자 연령'].mean(), 1)\n",
        "\n",
        "df['가해운전자 연령'].fillna(mean_age_driver, inplace=True)\n",
        "df['피해운전자 연령'].fillna(mean_age_victim, inplace=True)"
      ],
      "metadata": {
        "id": "EnDMlmLJR4cw"
      },
      "execution_count": null,
      "outputs": []
    },
    {
      "cell_type": "markdown",
      "source": [
        "**SUB**"
      ],
      "metadata": {
        "id": "zUL7GQTxoBsJ"
      }
    },
    {
      "cell_type": "code",
      "source": [
        "#기초통계분석\n",
        "basic_stats = df.describe(include='all', datetime_is_numeric=True)\n",
        "html = basic_stats.to_html()\n",
        "html = html.replace('class=\"table table-striped\"', 'class=\"table table-bordered table-striped\"')\n",
        "display(HTML(html))\n"
      ],
      "metadata": {
        "id": "8EMOfzb0t8Rf"
      },
      "execution_count": null,
      "outputs": []
    },
    {
      "cell_type": "code",
      "source": [
        "print(df.columns.tolist())"
      ],
      "metadata": {
        "id": "TBycXaP8Xqgu",
        "colab": {
          "base_uri": "https://localhost:8080/"
        },
        "outputId": "69e0e9d5-e9e0-494c-b8eb-ae600682f553"
      },
      "execution_count": null,
      "outputs": [
        {
          "output_type": "stream",
          "name": "stdout",
          "text": [
            "['사고일시', '요일', '시군구', '사고내용', '사망자수', '중상자수', '경상자수', '부상신고자수', '사고유형', '법규위반', '노면상태', '기상상태', '도로형태', '가해운전자 차종', '가해운전자 성별', '가해운전자 연령', '가해운전자 상해정도', '피해운전자 차종', '피해운전자 성별', '피해운전자 연령', '피해운전자 상해정도', 'ECLO']\n"
          ]
        }
      ]
    },
    {
      "cell_type": "code",
      "source": [
        "print(df.head())"
      ],
      "metadata": {
        "id": "fP837OwQP--h"
      },
      "execution_count": null,
      "outputs": []
    },
    {
      "cell_type": "code",
      "source": [
        "# 원핫 인코딩 예시\n",
        "categorical_features = ['요일']\n",
        "encoded_df = pd.get_dummies(df[categorical_features])\n",
        "df = df.drop(columns=categorical_features)\n",
        "df = pd.concat([df, encoded_df], axis=1)\n"
      ],
      "metadata": {
        "id": "O2KZnK-uMOJx"
      },
      "execution_count": null,
      "outputs": []
    },
    {
      "cell_type": "code",
      "source": [
        "#전반적인 프로세스\n",
        "\n",
        "import pandas as pd\n",
        "from sklearn.model_selection import train_test_split\n",
        "from sklearn.ensemble import RandomForestRegressor\n",
        "from sklearn.metrics import mean_squared_error\n",
        "\n",
        "file_path = \"/content/drive/MyDrive/Colab Notebooks/01 DATA/accidentInfoList.CSV\"\n",
        "df = pd.read_csv(file_path, encoding='cp949')\n",
        "\n",
        "#범주형 데이터 처리\n",
        "categorical_features = ['요일']\n",
        "encoded_df = pd.get_dummies(df[categorical_features])\n",
        "df = df.drop(columns=categorical_features)\n",
        "df = pd.concat([df, encoded_df], axis=1)\n",
        "\n",
        "# 피처 엔지니어링\n",
        "df['ECLO'] = df['사망자수'] * 10 + df['중상자수'] * 5 + df['경상자수'] * 3 + df['부상신고자수'] * 1\n",
        "\n",
        "# 필요한 피처 및 타겟 데이터 선택\n",
        "X = df[['요일_금요일', '요일_목요일', '요일_수요일', '요일_월요일', '요일_일요일', '요일_토요일', '요일_화요일']]\n",
        "y = df['ECLO']\n",
        "\n",
        "# 데이터 분할\n",
        "X_train, X_test, y_train, y_test = train_test_split(X, y, test_size=0.2, random_state=42)\n",
        "\n",
        "# 랜덤 포레스트 회귀 모델 생성 및 훈련\n",
        "model = RandomForestRegressor(n_estimators=100, random_state=42)\n",
        "model.fit(X_train, y_train)\n",
        "\n",
        "# 모델 평가\n",
        "y_pred = model.predict(X_test)\n",
        "rmse = mean_squared_error(y_test, y_pred, squared=False)\n",
        "print(\"RMSE:\", rmse)\n"
      ],
      "metadata": {
        "id": "3DVeTCDfmbBq"
      },
      "execution_count": null,
      "outputs": []
    },
    {
      "cell_type": "code",
      "source": [
        "#임시 저장\n",
        "output_file_path = \"/content/drive/MyDrive/Colab Notebooks/01 DATA/modified_accidentInfoList.csv\"\n",
        "df.to_csv(output_file_path, index=False)"
      ],
      "metadata": {
        "id": "G49gstF3LFOK"
      },
      "execution_count": null,
      "outputs": []
    }
  ]
}