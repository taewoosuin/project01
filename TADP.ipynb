{
  "nbformat": 4,
  "nbformat_minor": 0,
  "metadata": {
    "colab": {
      "provenance": [],
      "collapsed_sections": [
        "ed1WX84Oe37e",
        "yHE-2bvoe8qf",
        "o-D6VTRP4k1P",
        "GBL9KpAt5MDA"
      ]
    },
    "kernelspec": {
      "name": "python3",
      "display_name": "Python 3"
    },
    "language_info": {
      "name": "python"
    }
  },
  "cells": [
    {
      "cell_type": "markdown",
      "source": [
        "#사전 작업"
      ],
      "metadata": {
        "id": "ed1WX84Oe37e"
      }
    },
    {
      "cell_type": "code",
      "source": [
        "from google.colab import drive\n",
        "drive.mount('/content/drive')"
      ],
      "metadata": {
        "id": "ysWrrU0Le2WD"
      },
      "execution_count": null,
      "outputs": []
    },
    {
      "cell_type": "code",
      "source": [
        "!apt-get install -y fonts-nanum*\n",
        "!sudo fc-cache -fv\n",
        "!rm ~/.cache/matplotlib -rf"
      ],
      "metadata": {
        "id": "9SMmLqkze3SL"
      },
      "execution_count": null,
      "outputs": []
    },
    {
      "cell_type": "markdown",
      "source": [
        "#데이터 전처리\n"
      ],
      "metadata": {
        "id": "yHE-2bvoe8qf"
      }
    },
    {
      "cell_type": "code",
      "execution_count": 61,
      "metadata": {
        "id": "UcgExl3dNjB9"
      },
      "outputs": [],
      "source": [
        "#import 및 파일 불러오기\n",
        "import pandas as pd\n",
        "import numpy as np\n",
        "import matplotlib.pyplot as plt\n",
        "import seaborn as sns\n",
        "import re\n",
        "from sklearn.preprocessing import StandardScaler\n",
        "from sklearn.model_selection import train_test_split\n",
        "from sklearn.ensemble import RandomForestRegressor\n",
        "from sklearn.metrics import mean_squared_error, mean_absolute_error, r2_score\n",
        "from scipy import stats\n",
        "\n",
        "plt.rc('font', family='NanumGothic')\n",
        "\n",
        "file_path = \"/content/drive/MyDrive/Colab Notebooks/01 DATA/accidentInfoList.CSV\"\n",
        "df = pd.read_csv(file_path, encoding='cp949')\n",
        "\n"
      ]
    },
    {
      "cell_type": "code",
      "source": [
        "# 숫자 추출 함수 생성\n",
        "def extract_numbers_from_age(age):\n",
        "    numbers = re.findall(r'\\d+', str(age))\n",
        "    if numbers:\n",
        "        return int(numbers[0])\n",
        "    else:\n",
        "        return np.nan\n",
        "\n",
        "# 문자 데이터 제거 및 숫자만 추출\n",
        "df['가해운전자 연령'] = df['가해운전자 연령'].apply(extract_numbers_from_age)\n",
        "df['피해운전자 연령'] = df['피해운전자 연령'].apply(extract_numbers_from_age)\n",
        "mean_age_driver = round(df['가해운전자 연령'].mean(), 1)\n",
        "mean_age_victim = round(df['피해운전자 연령'].mean(), 1)\n",
        "\n",
        "# 결측치 처리\n",
        "df['가해운전자 연령'].fillna(mean_age_driver, inplace=True)\n",
        "df['피해운전자 연령'].fillna(mean_age_victim, inplace=True)\n",
        "df['피해운전자 차종'].fillna('차량단독사고', inplace=True)\n",
        "df['피해운전자 성별'].fillna('차량단독사고', inplace=True)\n",
        "df['피해운전자 상해정도'].fillna('상해없음', inplace=True)\n"
      ],
      "metadata": {
        "id": "sE6suEWSAUr_"
      },
      "execution_count": 62,
      "outputs": []
    },
    {
      "cell_type": "code",
      "source": [
        "# 피쳐 생성\n",
        "df['ECLO'] = df['사망자수'] * 10 + df['중상자수'] * 5 + df['경상자수'] * 3 + df['부상신고자수'] * 1\n",
        "\n",
        "# '사고일시' 열에서 시간 정보 추출\n",
        "df['사고일시'] = pd.to_datetime(df['사고일시'], format='%Y년 %m월 %d일 %H시')\n",
        "df['사고발생시간'] = df['사고일시'].dt.hour\n",
        "\n",
        "# '시군구' 피처에서 '구' 정보만 남기기\n",
        "df['시군구'] = df['시군구'].apply(lambda x: x.split(' ')[1])"
      ],
      "metadata": {
        "id": "mNBXVK6E4FfA"
      },
      "execution_count": 63,
      "outputs": []
    },
    {
      "cell_type": "code",
      "source": [
        "# 이상치 제거\n",
        "z_scores = np.abs(stats.zscore(df['ECLO']))\n",
        "outliers = (z_scores > 3)\n",
        "df_no_outliers = df[~outliers]\n"
      ],
      "metadata": {
        "id": "oPsq1B9FL7Sl"
      },
      "execution_count": 64,
      "outputs": []
    },
    {
      "cell_type": "code",
      "source": [
        "#스케일링\n",
        "eclo_data = df_no_outliers['ECLO'].values.reshape(-1, 1)\n",
        "scaler = StandardScaler()\n",
        "eclo_scaled = scaler.fit_transform(eclo_data)\n",
        "df_no_outliers['ECLO_scaled'] = eclo_scaled\n"
      ],
      "metadata": {
        "id": "SBVD-9VRIn_g"
      },
      "execution_count": null,
      "outputs": []
    },
    {
      "cell_type": "markdown",
      "source": [
        "#시각화 관련"
      ],
      "metadata": {
        "id": "o-D6VTRP4k1P"
      }
    },
    {
      "cell_type": "markdown",
      "source": [
        "데이터탐색에 들어갈 자료 생성"
      ],
      "metadata": {
        "id": "9U8h_7JALaAw"
      }
    },
    {
      "cell_type": "code",
      "source": [
        "# 빈도표\n",
        "plt.figure(figsize=(16, 12))\n",
        "sns.countplot(x='피해운전자 연령', data=df, palette='viridis')\n",
        "plt.ylabel('빈도')\n",
        "plt.show()\n"
      ],
      "metadata": {
        "id": "D9iJcAY1Fdop"
      },
      "execution_count": null,
      "outputs": []
    },
    {
      "cell_type": "code",
      "source": [
        "# 커널 밀도 추정 그래프\n",
        "plt.figure(figsize=(10, 6))\n",
        "sns.kdeplot(data=df, x='사고발생시간', fill=True, color='skyblue')\n",
        "plt.title('사고발생시간별 분포')\n",
        "plt.xlabel('사고발생시간')\n",
        "plt.ylabel('밀도')\n",
        "plt.show()\n"
      ],
      "metadata": {
        "id": "Gh4nOyj8KWrR"
      },
      "execution_count": null,
      "outputs": []
    },
    {
      "cell_type": "markdown",
      "source": [
        "시각화에 들어갈 자료 생성"
      ],
      "metadata": {
        "id": "ZOc4PSD_LTYL"
      }
    },
    {
      "cell_type": "code",
      "source": [
        "# 사고내용별 ECLO\n",
        "avg_eclo_by_accident = df.groupby('시군구')['ECLO'].mean().reset_index()\n",
        "avg_eclo_all = df['ECLO'].mean()\n",
        "\n",
        "# 막대 그래프\n",
        "plt.figure(figsize=(12, 8))\n",
        "sns.barplot(x='시군구', y='ECLO', data=avg_eclo_by_accident, palette='viridis')\n",
        "plt.ylabel('평균 ECLO')\n",
        "plt.axhline(avg_eclo_all, color='r', linestyle='--', label='전체 평균 ECLO')\n",
        "plt.legend()\n",
        "plt.xticks(rotation=45)\n",
        "plt.tight_layout()\n",
        "plt.show()"
      ],
      "metadata": {
        "id": "nNDQx9Vw6Yy8"
      },
      "execution_count": null,
      "outputs": []
    },
    {
      "cell_type": "code",
      "source": [
        "def categorize_age(age):\n",
        "    if age <= 19:\n",
        "        return '0~19'\n",
        "    elif age <= 45:\n",
        "        return '20~45'\n",
        "    elif age <= 60:\n",
        "        return '46~60'\n",
        "    else:\n",
        "        return '61 이상'\n",
        "\n",
        "# 연령을 범주\n",
        "df['피해운전자 연령대'] = df['피해운전자 연령'].apply(categorize_age)\n",
        "\n",
        "# 사고내용별 ECLO\n",
        "avg_eclo_by_accident = df.groupby('피해운전자 연령대')['ECLO'].mean().reset_index()\n",
        "avg_eclo_all = df['ECLO'].mean()\n",
        "\n",
        "# 막대 그래프\n",
        "plt.figure(figsize=(12, 8))\n",
        "sns.barplot(x='피해운전자 연령대', y='ECLO', data=avg_eclo_by_accident, palette='viridis')\n",
        "plt.ylabel('평균 ECLO')\n",
        "plt.axhline(avg_eclo_all, color='r', linestyle='--', label='전체 평균 ECLO')\n",
        "plt.legend()\n",
        "plt.xticks(rotation=45)\n",
        "plt.tight_layout()\n",
        "plt.show()"
      ],
      "metadata": {
        "id": "_sDSQTbJ646A"
      },
      "execution_count": null,
      "outputs": []
    },
    {
      "cell_type": "code",
      "source": [
        "# 3가지 이상의 피처를 활용한 히트맵\n",
        "\n",
        "heatmap_data = df.pivot_table(index='사고발생시간', columns='법규위반', values='ECLO', aggfunc='mean')\n",
        "\n",
        "plt.figure(figsize=(14, 10))\n",
        "sns.heatmap(heatmap_data, cmap='viridis', annot=True, fmt=\".2f\", linewidths=.5)\n",
        "plt.title('사고 발생시간과 법규위반에 따른 ECLO 평균')\n",
        "plt.xlabel('법규위반')\n",
        "plt.ylabel('사고발생시간')\n",
        "plt.show()\n"
      ],
      "metadata": {
        "id": "gvYj5gQ4HjSJ"
      },
      "execution_count": null,
      "outputs": []
    },
    {
      "cell_type": "markdown",
      "source": [
        "#모델링"
      ],
      "metadata": {
        "id": "90u27H-I4lFG"
      }
    },
    {
      "cell_type": "code",
      "source": [
        "# 피처 선택\n",
        "features = ['경상자수', '중상자수', '사망자수']\n",
        "\n",
        "# 독립변수와 종속변수 분할\n",
        "X = df_no_outliers[features]\n",
        "y = df_no_outliers['ECLO_scaled']\n",
        "\n",
        "# 데이터 분할\n",
        "X_train, X_test, y_train, y_test = train_test_split(X, y, test_size=0.2, random_state=42)"
      ],
      "metadata": {
        "id": "vtp1USKqAiNL"
      },
      "execution_count": 66,
      "outputs": []
    },
    {
      "cell_type": "code",
      "source": [
        "# 모델 생성 및 훈련\n",
        "model = RandomForestRegressor(random_state=42)\n",
        "model.fit(X_train, y_train)\n",
        "\n",
        "# 모델 평가\n",
        "y_pred = model.predict(X_test)\n",
        "mse = mean_squared_error(y_test, y_pred)\n",
        "mae = mean_absolute_error(y_test, y_pred)\n",
        "r2 = r2_score(y_test, y_pred)\n",
        "\n",
        "print(\"Mean Squared Error without outliers:\", mse)\n",
        "print(\"Mean Absolute Error without outliers:\", mae)\n",
        "print(\"R² Score without outliers:\", r2)\n",
        "\n",
        "# 중요도 확인\n",
        "feature_importances = model.feature_importances_\n",
        "feature_importance_df = pd.DataFrame({'Feature': features, 'Importance': feature_importances})\n",
        "feature_importance_df = feature_importance_df.sort_values(by='Importance', ascending=False)\n",
        "print(feature_importance_df)"
      ],
      "metadata": {
        "id": "J6rjWvTY4sUP",
        "colab": {
          "base_uri": "https://localhost:8080/"
        },
        "outputId": "fc85c987-530f-453f-86bb-38c23d6e8197"
      },
      "execution_count": 67,
      "outputs": [
        {
          "output_type": "stream",
          "name": "stdout",
          "text": [
            "Mean Squared Error without outliers: 0.011646513531384507\n",
            "Mean Absolute Error without outliers: 0.031942648591598045\n",
            "R² Score without outliers: 0.9881970895183898\n",
            "  Feature  Importance\n",
            "0    경상자수    0.578689\n",
            "1    중상자수    0.350729\n",
            "2    사망자수    0.070582\n"
          ]
        }
      ]
    },
    {
      "cell_type": "markdown",
      "source": [
        "#SUB"
      ],
      "metadata": {
        "id": "GBL9KpAt5MDA"
      }
    },
    {
      "cell_type": "code",
      "source": [
        "print(df.columns.tolist())"
      ],
      "metadata": {
        "id": "AeJW7KhEflRs"
      },
      "execution_count": null,
      "outputs": []
    },
    {
      "cell_type": "code",
      "source": [
        "print(df.head())"
      ],
      "metadata": {
        "id": "JzNfvXz5JHQM"
      },
      "execution_count": null,
      "outputs": []
    },
    {
      "cell_type": "code",
      "source": [
        "#원-핫 인코딩 예시\n",
        "categorical_features = ['요일']\n",
        "encoded_df = pd.get_dummies(df[categorical_features])\n",
        "df = df.drop(columns=categorical_features)\n",
        "df = pd.concat([df, encoded_df], axis=1)\n",
        "print(encoded_df.columns)\n"
      ],
      "metadata": {
        "id": "KQ6d-Izs6JW1"
      },
      "execution_count": null,
      "outputs": []
    },
    {
      "cell_type": "code",
      "source": [
        "import pandas as pd\n",
        "import numpy as np\n",
        "import matplotlib.pyplot as plt\n",
        "import seaborn as sns\n",
        "import re\n",
        "from sklearn.preprocessing import StandardScaler\n",
        "from sklearn.model_selection import train_test_split\n",
        "from sklearn.ensemble import RandomForestRegressor\n",
        "from sklearn.metrics import mean_squared_error, mean_absolute_error, r2_score\n",
        "from scipy import stats\n",
        "\n",
        "plt.rc('font', family='NanumGothic')\n",
        "\n",
        "file_path = \"/content/drive/MyDrive/Colab Notebooks/01 DATA/accidentInfoList.CSV\"\n",
        "df = pd.read_csv(file_path, encoding='cp949')\n",
        "\n",
        "# 숫자 추출 함수 생성\n",
        "def extract_numbers_from_age(age):\n",
        "    numbers = re.findall(r'\\d+', str(age))\n",
        "    if numbers:\n",
        "        return int(numbers[0])\n",
        "    else:\n",
        "        return np.nan\n",
        "\n",
        "# 문자 데이터 제거 및 숫자만 추출\n",
        "df['가해운전자 연령'] = df['가해운전자 연령'].apply(extract_numbers_from_age)\n",
        "df['피해운전자 연령'] = df['피해운전자 연령'].apply(extract_numbers_from_age)\n",
        "mean_age_driver = round(df['가해운전자 연령'].mean(), 1)\n",
        "mean_age_victim = round(df['피해운전자 연령'].mean(), 1)\n",
        "\n",
        "# 결측치 처리\n",
        "df['가해운전자 연령'].fillna(mean_age_driver, inplace=True)\n",
        "df['피해운전자 연령'].fillna(mean_age_victim, inplace=True)\n",
        "df['피해운전자 차종'].fillna('차량단독사고', inplace=True)\n",
        "df['피해운전자 성별'].fillna('차량단독사고', inplace=True)\n",
        "df['피해운전자 상해정도'].fillna('상해없음', inplace=True)\n",
        "\n",
        "# 피쳐 생성\n",
        "df['ECLO'] = df['사망자수'] * 10 + df['중상자수'] * 5 + df['경상자수'] * 3 + df['부상신고자수'] * 1\n",
        "\n",
        "# '사고일시' 열에서 시간 정보 추출\n",
        "df['사고일시'] = pd.to_datetime(df['사고일시'], format='%Y년 %m월 %d일 %H시')\n",
        "df['사고발생시간'] = df['사고일시'].dt.hour\n",
        "\n",
        "# '시군구' 피처에서 '구' 정보만 남기기\n",
        "df['시군구'] = df['시군구'].apply(lambda x: x.split(' ')[1])\n",
        "\n",
        "# 이상치 제거\n",
        "z_scores = np.abs(stats.zscore(df['ECLO']))\n",
        "outliers = (z_scores > 3)\n",
        "df_no_outliers = df[~outliers]\n",
        "\n",
        "#스케일링\n",
        "eclo_data = df_no_outliers['ECLO'].values.reshape(-1, 1)\n",
        "scaler = StandardScaler()\n",
        "eclo_scaled = scaler.fit_transform(eclo_data)\n",
        "df_no_outliers['ECLO_scaled'] = eclo_scaled\n",
        "\n",
        "# 피처 선택\n",
        "features = ['경상자수', '중상자수', '사망자수']\n",
        "\n",
        "# 독립변수와 종속변수 분할\n",
        "X = df_no_outliers[features]\n",
        "y = df_no_outliers['ECLO_scaled']\n",
        "\n",
        "# 데이터 분할\n",
        "X_train, X_test, y_train, y_test = train_test_split(X, y, test_size=0.2, random_state=42)\n",
        "\n",
        "# 모델 생성 및 훈련\n",
        "model = RandomForestRegressor(random_state=42)\n",
        "model.fit(X_train, y_train)\n",
        "\n",
        "# 모델 평가\n",
        "y_pred = model.predict(X_test)\n",
        "mse = mean_squared_error(y_test, y_pred)\n",
        "mae = mean_absolute_error(y_test, y_pred)\n",
        "r2 = r2_score(y_test, y_pred)\n",
        "\n",
        "print(\"Mean Squared Error without outliers:\", mse)\n",
        "print(\"Mean Absolute Error without outliers:\", mae)\n",
        "print(\"R² Score without outliers:\", r2)\n",
        "\n",
        "# 중요도 확인\n",
        "feature_importances = model.feature_importances_\n",
        "feature_importance_df = pd.DataFrame({'Feature': features, 'Importance': feature_importances})\n",
        "feature_importance_df = feature_importance_df.sort_values(by='Importance', ascending=False)\n",
        "print(feature_importance_df)\n"
      ],
      "metadata": {
        "colab": {
          "base_uri": "https://localhost:8080/"
        },
        "id": "ayqJ-S3cK10P",
        "outputId": "a20221fe-49a5-4376-c078-4c555758e5b3"
      },
      "execution_count": null,
      "outputs": [
        {
          "output_type": "stream",
          "name": "stderr",
          "text": [
            "<ipython-input-58-e25a4232b4dc>:57: SettingWithCopyWarning: \n",
            "A value is trying to be set on a copy of a slice from a DataFrame.\n",
            "Try using .loc[row_indexer,col_indexer] = value instead\n",
            "\n",
            "See the caveats in the documentation: https://pandas.pydata.org/pandas-docs/stable/user_guide/indexing.html#returning-a-view-versus-a-copy\n",
            "  df_no_outliers['ECLO_scaled'] = eclo_scaled\n"
          ]
        },
        {
          "output_type": "stream",
          "name": "stdout",
          "text": [
            "Mean Squared Error without outliers: 0.011646513531384507\n",
            "Mean Absolute Error without outliers: 0.031942648591598045\n",
            "R² Score without outliers: 0.9881970895183898\n",
            "  Feature  Importance\n",
            "0    경상자수    0.578689\n",
            "1    중상자수    0.350729\n",
            "2    사망자수    0.070582\n"
          ]
        }
      ]
    }
  ]
}