{
  "cells": [
    {
      "cell_type": "markdown",
      "metadata": {
        "id": "ed1WX84Oe37e"
      },
      "source": [
        "#사전 작업"
      ]
    },
    {
      "cell_type": "code",
      "execution_count": 1,
      "metadata": {
        "colab": {
          "base_uri": "https://localhost:8080/"
        },
        "id": "ysWrrU0Le2WD",
        "outputId": "716f944c-f81d-4faa-97b1-33a24c51134e"
      },
      "outputs": [
        {
          "output_type": "stream",
          "name": "stdout",
          "text": [
            "Mounted at /content/drive\n"
          ]
        }
      ],
      "source": [
        "from google.colab import drive\n",
        "drive.mount('/content/drive')"
      ]
    },
    {
      "cell_type": "code",
      "source": [
        "!sudo apt-get install -y fonts-nanum\n",
        "!sudo fc-cache -fv\n",
        "!rm ~/.cache/matplotlib -rf"
      ],
      "metadata": {
        "id": "dppQYn-6a2SI"
      },
      "execution_count": null,
      "outputs": []
    },
    {
      "cell_type": "code",
      "source": [
        "!pip install shap\n",
        "!pip install catboost\n"
      ],
      "metadata": {
        "id": "NARrFjl6W_8j"
      },
      "execution_count": null,
      "outputs": []
    },
    {
      "cell_type": "markdown",
      "metadata": {
        "id": "yHE-2bvoe8qf"
      },
      "source": [
        "#데이터 전처리\n"
      ]
    },
    {
      "cell_type": "code",
      "execution_count": null,
      "metadata": {
        "id": "UcgExl3dNjB9"
      },
      "outputs": [],
      "source": [
        "# 필요한 패키지들 import\n",
        "import pandas as pd\n",
        "import numpy as np\n",
        "import matplotlib.pyplot as plt\n",
        "import matplotlib.font_manager as fm\n",
        "import seaborn as sns\n",
        "from sklearn.model_selection import train_test_split\n",
        "from xgboost import XGBRegressor\n",
        "from catboost import CatBoostRegressor\n",
        "from sklearn.ensemble import VotingRegressor\n",
        "from sklearn.preprocessing import MinMaxScaler\n",
        "from scipy import stats\n",
        "import re\n",
        "import shap\n",
        "from sklearn.metrics import r2_score, mean_squared_error, mean_absolute_error, mean_squared_log_error\n",
        "\n",
        "\n",
        "# 폰트 설정\n",
        "plt.rc('font', family='NanumBarunGothic')\n",
        "\n",
        "# 데이터 불러오기\n",
        "file_path = \"/content/drive/MyDrive/Colab Notebooks/01 DATA/accidentInfoList.CSV\"\n",
        "df = pd.read_csv(file_path, encoding='cp949')"
      ]
    },
    {
      "cell_type": "code",
      "execution_count": null,
      "metadata": {
        "id": "sE6suEWSAUr_"
      },
      "outputs": [],
      "source": [
        "# 숫자 추출 함수\n",
        "def extract_numbers_from_age(age):\n",
        "    numbers = re.findall(r'\\d+', str(age))\n",
        "    if numbers:\n",
        "        return int(numbers[0])\n",
        "    else:\n",
        "        return np.nan\n",
        "\n",
        "# '가해운전자 연령' 및 '피해운전자 연령'에서 숫자만 추출\n",
        "df['가해운전자 연령'] = df['가해운전자 연령'].apply(extract_numbers_from_age)\n",
        "df['피해운전자 연령'] = df['피해운전자 연령'].apply(extract_numbers_from_age)\n",
        "\n",
        "# 결측치 처리\n",
        "mean_age_driver = round(df['가해운전자 연령'].mean(), 1)\n",
        "mean_age_victim = round(df['피해운전자 연령'].mean(), 1)\n",
        "df['가해운전자 연령'].fillna(mean_age_driver, inplace=True)\n",
        "df['피해운전자 연령'].fillna(mean_age_victim, inplace=True)\n",
        "df['피해운전자 차종'].fillna('기타불명', inplace=True)\n",
        "df['피해운전자 성별'].fillna('기타불명', inplace=True)"
      ]
    },
    {
      "cell_type": "code",
      "execution_count": null,
      "metadata": {
        "id": "mNBXVK6E4FfA"
      },
      "outputs": [],
      "source": [
        "# 피처 엔지니어링\n",
        "# 'TAD' 피처 생성\n",
        "df['TAD'] = df['사망자수'] * 10 + df['중상자수'] * 5 + df['경상자수'] * 3 + df['부상신고자수'] * 1\n",
        "df.drop(columns=['사망자수', '경상자수', '중상자수', '부상신고자수'], inplace=True)\n",
        "\n",
        "# '사고일시'에서 시간 정보 추출\n",
        "df['사고일시'] = pd.to_datetime(df['사고일시'], format='%Y년 %m월 %d일 %H시')\n",
        "df['사고발생시간'] = df['사고일시'].dt.hour\n",
        "df.drop(columns=['사고일시'], inplace=True)\n",
        "\n",
        "# 피처 제거\n",
        "df.drop(columns=['사고번호', '시군구','사고내용'], inplace=True)"
      ]
    },
    {
      "cell_type": "code",
      "execution_count": null,
      "metadata": {
        "id": "gI0wTI-RVGyP"
      },
      "outputs": [],
      "source": [
        "#범주형 데이터 처리\n",
        "# 요일 범주화\n",
        "def categorize_weekday(weekday):\n",
        "    if weekday in ['월요일', '화요일', '수요일', '목요일', '금요일']:\n",
        "        return '평일'\n",
        "    else:\n",
        "        return '주말'\n",
        "\n",
        "df['평일/주말'] = df['요일'].apply(categorize_weekday)\n",
        "df.drop(columns=['요일'], inplace=True)\n",
        "\n",
        "# 사고발생시간 범주화\n",
        "def recategorize_time_of_day(hour):\n",
        "    if 21 <= hour <= 24 or 0 <= hour < 6:\n",
        "        return '야간'\n",
        "    else:\n",
        "        return '주간'\n",
        "\n",
        "df['시간대'] = df['사고발생시간'].apply(recategorize_time_of_day)\n",
        "df.drop(columns=['사고발생시간'], inplace=True)\n",
        "\n",
        "# 연령대 범주화\n",
        "def categorize_age(age):\n",
        "    if age <= 19:\n",
        "        return '미성년층'\n",
        "    elif 20 <= age <= 45:\n",
        "        return '청년층'\n",
        "    elif 46 <= age <= 60:\n",
        "        return '중장년층'\n",
        "    else:\n",
        "        return '노년층'\n",
        "\n",
        "df['가해운전자 연령대'] = df['가해운전자 연령'].apply(categorize_age)\n",
        "df.drop(columns=['가해운전자 연령'], inplace=True)\n",
        "df['피해운전자 연령대'] = df['피해운전자 연령'].apply(categorize_age)\n",
        "df.drop(columns=['피해운전자 연령'], inplace=True)\n",
        "\n",
        "# 노면상태 범주화\n",
        "dangerous_conditions = ['서리/결빙', '적설', '침수', '해빙', '기타']\n",
        "df['노면상태_위험도'] = df['노면상태'].apply(lambda x: '위험(적설, 침수)' if x in dangerous_conditions else x)\n",
        "df.drop(columns=['노면상태'], inplace=True)\n",
        "\n",
        "#기상상태 범주화\n",
        "df['기상상태_위험도'] = df['기상상태'].apply(lambda x: '매우 위험(안개, 눈)' if x in ['안개', '눈'] else ('위험(비, 흐림)' if x in ['비', '흐림'] else x))\n",
        "df.drop(columns=['기상상태'], inplace=True)\n",
        "\n",
        "# 가해/피해운전자 차종 범주화\n",
        "large_vehicle_types = ['건설기계', '승용', '승합', '특수', '화물', '농기계']\n",
        "small_vehicle_types = ['개인형이동수단(PM)', '기타불명', '사륜오토바이(ATV)', '원동기', '이륜', '자전거']\n",
        "\n",
        "def classify_driver_vehicle_type(vehicle_type):\n",
        "    if vehicle_type in large_vehicle_types:\n",
        "        return '중대형'\n",
        "    elif vehicle_type in small_vehicle_types:\n",
        "        return '소형'\n",
        "    else:\n",
        "        return vehicle_type\n",
        "\n",
        "df['가해운전자 차종_분류'] = df['가해운전자 차종'].apply(classify_driver_vehicle_type)\n",
        "df['피해운전자 차종_분류'] = df['피해운전자 차종'].apply(classify_driver_vehicle_type)\n",
        "df.drop(columns=['가해운전자 차종', '피해운전자 차종'], inplace=True)\n",
        "\n",
        "# 도로형태 명칭 정리\n",
        "def categorize_road_type(road_type):\n",
        "    if road_type == '단일로 - 기타':\n",
        "        return '단일로 - 일반'\n",
        "    else:\n",
        "        return road_type\n",
        "\n",
        "df['도로형태'] = df['도로형태'].apply(categorize_road_type)\n",
        "\n"
      ]
    },
    {
      "cell_type": "code",
      "execution_count": null,
      "metadata": {
        "id": "qDWxZwV2VlMg"
      },
      "outputs": [],
      "source": [
        "# 인코딩\n",
        "categorical_features = ['사고유형', '법규위반', '노면상태_위험도', '기상상태_위험도', '도로형태',\n",
        "                        '가해운전자 차종_분류', '가해운전자 성별', '피해운전자 차종_분류',\n",
        "                        '피해운전자 성별', '평일/주말', '시간대',\n",
        "                        '가해운전자 연령대', '피해운전자 연령대','가해운전자 상해정도', '피해운전자 상해정도']\n",
        "\n",
        "df = pd.get_dummies(df, columns=categorical_features)\n"
      ]
    },
    {
      "cell_type": "code",
      "execution_count": null,
      "metadata": {
        "id": "oPsq1B9FL7Sl",
        "colab": {
          "base_uri": "https://localhost:8080/"
        },
        "outputId": "b565bbbe-7e4b-45a1-f725-67b788df04ca"
      },
      "outputs": [
        {
          "output_type": "stream",
          "name": "stderr",
          "text": [
            "\n",
            "A value is trying to be set on a copy of a slice from a DataFrame.\n",
            "Try using .loc[row_indexer,col_indexer] = value instead\n",
            "\n",
            "See the caveats in the documentation: https://pandas.pydata.org/pandas-docs/stable/user_guide/indexing.html#returning-a-view-versus-a-copy\n"
          ]
        }
      ],
      "source": [
        "# 이상치 제거\n",
        "z_scores = np.abs(stats.zscore(df['TAD']))\n",
        "outliers = (z_scores > 3)\n",
        "df_no_outliers = df[~outliers]\n",
        "\n",
        "# MINMAX 스케일러 적용\n",
        "\n",
        "minmax_scaler = MinMaxScaler()\n",
        "TAD_minmax_scaled = minmax_scaler.fit_transform(df_no_outliers['TAD'].values.reshape(-1, 1))\n",
        "df_no_outliers['TAD_scaled'] = TAD_minmax_scaled\n"
      ]
    },
    {
      "cell_type": "markdown",
      "source": [
        "#모델링"
      ],
      "metadata": {
        "id": "iWSRFGYjiMnk"
      }
    },
    {
      "cell_type": "code",
      "execution_count": null,
      "metadata": {
        "id": "LjRi2X1QYc3a"
      },
      "outputs": [],
      "source": [
        "# 피처 선택\n",
        "features = ['사고유형_차대사람 - 길가장자리구역통행중', '사고유형_차대사람 - 보도통행중', '사고유형_차대사람 - 차도통행중', '사고유형_차대사람 - 횡단중', '사고유형_차대차 - 정면충돌', '사고유형_차대차 - 추돌', '사고유형_차대차 - 측면충돌', '사고유형_차대차 - 후진중충돌', '사고유형_차량단독 - 공작물충돌', '사고유형_차량단독 - 도로외이탈 - 추락', '사고유형_차량단독 - 전도전복 - 전도', '사고유형_차량단독 - 전도전복 - 전복', '사고유형_차량단독 - 주/정차차량 충돌', '법규위반_과속', '법규위반_교차로운행방법위반', '법규위반_보행자보호의무위반', '법규위반_불법유턴', '법규위반_신호위반', '법규위반_안전거리미확보', '법규위반_안전운전불이행', '법규위반_중앙선침범', '법규위반_직진우회전진행방해', '법규위반_차로위반', '노면상태_위험도_건조', '노면상태_위험도_위험(적설, 침수)', '노면상태_위험도_젖음/습기', '기상상태_위험도_맑음', '기상상태_위험도_매우 위험(안개, 눈)', '기상상태_위험도_위험(비, 흐림)', '도로형태_교차로 - 교차로부근', '도로형태_교차로 - 교차로안', '도로형태_교차로 - 교차로횡단보도내', '도로형태_단일로 - 고가도로위', '도로형태_단일로 - 교량','도로형태_단일로 - 일반', '도로형태_단일로 - 지하차도(도로)내', '도로형태_단일로 - 터널', '도로형태_미분류 - 미분류', '도로형태_주차장 - 주차장', '가해운전자 차종_분류_소형', '가해운전자 차종_분류_중대형', '가해운전자 성별_남', '가해운전자 성별_여', '피해운전자 차종_분류_보행자', '피해운전자 차종_분류_소형', '피해운전자 차종_분류_중대형', '피해운전자 성별_남', '피해운전자 성별_여', '평일/주말_주말', '평일/주말_평일', '시간대_야간', '시간대_주간', '가해운전자 연령대_노년층', '가해운전자 연령대_미성년층', '가해운전자 연령대_중장년층', '가해운전자 연령대_청년층', '피해운전자 연령대_노년층', '피해운전자 연령대_미성년층', '피해운전자 연령대_중장년층', '피해운전자 연령대_청년층', '가해운전자 상해정도_경상', '가해운전자 상해정도_부상신고', '가해운전자 상해정도_사망', '가해운전자 상해정도_상해없음', '가해운전자 상해정도_중상', '피해운전자 상해정도_경상', '피해운전자 상해정도_부상신고', '피해운전자 상해정도_사망', '피해운전자 상해정도_상해없음', '피해운전자 상해정도_중상']\n",
        "\n",
        "\n",
        "# 훈련 데이터 및 테스트 데이터 분할\n",
        "X = df_no_outliers[features]\n",
        "y = df_no_outliers['TAD_scaled']\n",
        "X_train, X_test, y_train, y_test = train_test_split(X, y, test_size=0.3, random_state=42)"
      ]
    },
    {
      "cell_type": "code",
      "source": [
        "from xgboost import XGBRegressor\n",
        "from catboost import CatBoostRegressor\n",
        "from sklearn.ensemble import VotingRegressor\n",
        "\n",
        "xgb_tuned = XGBRegressor(subsample=0.7, n_estimators=300, min_child_weight=1, max_depth=10, learning_rate=0.05, gamma=0.1, colsample_bytree=0.8, random_state=42)\n",
        "xgb_tuned.fit(X_train, y_train)\n",
        "\n",
        "# CatBoost 모델 훈련\n",
        "catboost_tuned = CatBoostRegressor(learning_rate=0.05, l2_leaf_reg=9, depth=4, random_seed=42, verbose=0)\n",
        "catboost_tuned.fit(X_train, y_train)\n",
        "\n",
        "def evaluate_model_performance(model_name, model, X_train, y_train, X_test, y_test):\n",
        "    # 훈련 세트 예측\n",
        "    y_pred_train = model.predict(X_train)\n",
        "    # 테스트 세트 예측\n",
        "    y_pred_test = model.predict(X_test)\n",
        "\n",
        "    print(f\"\\n{model_name} 모델 성능 평가:\")\n",
        "    print(\"훈련 세트 R2 점수:\", r2_score(y_train, y_pred_train))\n",
        "    print(\"테스트 세트 R2 점수:\", r2_score(y_test, y_pred_test))\n",
        "    print(\"훈련 세트 MSE:\", mean_squared_error(y_train, y_pred_train))\n",
        "    print(\"테스트 세트 MSE:\", mean_squared_error(y_test, y_pred_test))\n",
        "    print(\"훈련 세트 MAE:\", mean_absolute_error(y_train, y_pred_train))\n",
        "    print(\"테스트 세트 MAE:\", mean_absolute_error(y_test, y_pred_test))\n",
        "\n",
        "\n",
        "# XGBoost와 CatBoost 모델을 앙상블\n",
        "ensemble_model = VotingRegressor([('XGBoost', xgb_tuned), ('CatBoost', catboost_tuned)])\n",
        "ensemble_model.fit(X_train, y_train)\n",
        "\n",
        "# 앙상블 모델 평가\n",
        "evaluate_model_performance(\"Ensemble (XGBoost + CatBoost)\", ensemble_model, X_train, y_train, X_test, y_test)\n",
        "\n"
      ],
      "metadata": {
        "colab": {
          "base_uri": "https://localhost:8080/"
        },
        "id": "-6TTD4RE5IYy",
        "outputId": "d3548465-91b1-46c8-eda6-362a54bfc71d"
      },
      "execution_count": null,
      "outputs": [
        {
          "output_type": "stream",
          "name": "stdout",
          "text": [
            "\n",
            "Ensemble (XGBoost + CatBoost) 모델 성능 평가:\n",
            "훈련 세트 R2 점수: 0.4748770824900067\n",
            "테스트 세트 R2 점수: 0.460338721038575\n",
            "훈련 세트 MSE: 0.016658922797898167\n",
            "테스트 세트 MSE: 0.016963739429337172\n",
            "훈련 세트 MAE: 0.07844653273923775\n",
            "테스트 세트 MAE: 0.07945072856007061\n"
          ]
        }
      ]
    },
    {
      "cell_type": "code",
      "source": [
        "import shap\n",
        "\n",
        "# 각 개별 모델에 대해 SHAP 값 계산\n",
        "explainer_xgb = shap.Explainer(xgb_tuned)\n",
        "shap_values_xgb = explainer_xgb.shap_values(X_train)\n",
        "\n",
        "explainer_catboost = shap.Explainer(catboost_tuned)\n",
        "shap_values_catboost = explainer_catboost.shap_values(X_train)\n",
        "\n",
        "# 앙상블\n",
        "shap_values_ensemble = (shap_values_xgb + shap_values_catboost) / 2\n",
        "\n",
        "print(\"SHAP values for each feature:\")\n",
        "for i, feature in enumerate(X_train.columns):\n",
        "    print(f\"{feature}: {shap_values_ensemble[:, i].mean() * 10000}\")"
      ],
      "metadata": {
        "id": "jTLmMO43XasQ",
        "colab": {
          "base_uri": "https://localhost:8080/"
        },
        "outputId": "57d3ff7e-4c2e-45c1-a086-180f4cd625bf"
      },
      "execution_count": null,
      "outputs": [
        {
          "output_type": "stream",
          "name": "stdout",
          "text": [
            "SHAP values for each feature:\n",
            "사고유형_차대사람 - 길가장자리구역통행중: 0.0009907895170435572\n",
            "사고유형_차대사람 - 보도통행중: -4.1337498469787955e-05\n",
            "사고유형_차대사람 - 차도통행중: 0.02229931031864355\n",
            "사고유형_차대사람 - 횡단중: 0.10010815596932848\n",
            "사고유형_차대차 - 정면충돌: -0.08119327715693553\n",
            "사고유형_차대차 - 추돌: -1.765063915037323\n",
            "사고유형_차대차 - 측면충돌: 0.5351874150648019\n",
            "사고유형_차대차 - 후진중충돌: 0.36016617888005853\n",
            "사고유형_차량단독 - 공작물충돌: -0.2751702190380444\n",
            "사고유형_차량단독 - 도로외이탈 - 추락: 0.00039872607131541415\n",
            "사고유형_차량단독 - 전도전복 - 전도: -0.006391187039953154\n",
            "사고유형_차량단독 - 전도전복 - 전복: -0.014042528774484957\n",
            "사고유형_차량단독 - 주/정차차량 충돌: 0.0\n",
            "법규위반_과속: 0.027375067214972345\n",
            "법규위반_교차로운행방법위반: -0.12492352673632633\n",
            "법규위반_보행자보호의무위반: 1.5775710199293025\n",
            "법규위반_불법유턴: 0.022769483078173693\n",
            "법규위반_신호위반: 0.68020862884138\n",
            "법규위반_안전거리미확보: 0.4058230589983506\n",
            "법규위반_안전운전불이행: -0.15786131181493673\n",
            "법규위반_중앙선침범: 0.021858940353576963\n",
            "법규위반_직진우회전진행방해: 0.01251670018637398\n",
            "법규위반_차로위반: -0.008465181634163776\n",
            "노면상태_위험도_건조: 0.05530486915012396\n",
            "노면상태_위험도_위험(적설, 침수): 0.033716281953446295\n",
            "노면상태_위험도_젖음/습기: 0.0328636561451724\n",
            "기상상태_위험도_맑음: 0.12141969248598708\n",
            "기상상태_위험도_매우 위험(안개, 눈): 0.07626424801572247\n",
            "기상상태_위험도_위험(비, 흐림): 0.06845542951073622\n",
            "도로형태_교차로 - 교차로부근: 0.11800999129908225\n",
            "도로형태_교차로 - 교차로안: -0.5190960682369463\n",
            "도로형태_교차로 - 교차로횡단보도내: -0.07056923233730432\n",
            "도로형태_단일로 - 고가도로위: -0.04572731623501572\n",
            "도로형태_단일로 - 교량: -0.2656830094924532\n",
            "도로형태_단일로 - 일반: 0.03548229157688542\n",
            "도로형태_단일로 - 지하차도(도로)내: -0.015505867209287262\n",
            "도로형태_단일로 - 터널: -0.027716310929667233\n",
            "도로형태_미분류 - 미분류: -0.013045427474919151\n",
            "도로형태_주차장 - 주차장: 0.032259185733876095\n",
            "가해운전자 차종_분류_소형: 1.9514270155700977\n",
            "가해운전자 차종_분류_중대형: 0.1388574455655181\n",
            "가해운전자 성별_남: 0.12369140485571516\n",
            "가해운전자 성별_여: 0.060516420931193554\n",
            "피해운전자 차종_분류_보행자: 0.7598856711457922\n",
            "피해운전자 차종_분류_소형: 3.0372959045087633\n",
            "피해운전자 차종_분류_중대형: -0.6117201334834452\n",
            "피해운전자 성별_남: 4.5858569243313845\n",
            "피해운전자 성별_여: -2.928322883545399\n",
            "평일/주말_주말: 0.13656872519583424\n",
            "평일/주말_평일: -0.027066013332574558\n",
            "시간대_야간: -0.5236918201047439\n",
            "시간대_주간: -0.24378756748852576\n",
            "가해운전자 연령대_노년층: -0.011756812335213342\n",
            "가해운전자 연령대_미성년층: 0.3133641182319283\n",
            "가해운전자 연령대_중장년층: 0.12921583911887563\n",
            "가해운전자 연령대_청년층: -0.02038393163478835\n",
            "피해운전자 연령대_노년층: 1.073489020961299\n",
            "피해운전자 연령대_미성년층: 2.0022186596392926\n",
            "피해운전자 연령대_중장년층: -0.09166314276599495\n",
            "피해운전자 연령대_청년층: -0.06273049443473569\n",
            "가해운전자 상해정도_경상: 8.721526353485629\n",
            "가해운전자 상해정도_부상신고: 1.5024774667649743\n",
            "가해운전자 상해정도_사망: -1.2624215199116129\n",
            "가해운전자 상해정도_상해없음: 5.305647193461114\n",
            "가해운전자 상해정도_중상: 2.433760613087507\n",
            "피해운전자 상해정도_경상: 15.021911606719312\n",
            "피해운전자 상해정도_부상신고: 5.784411208987165\n",
            "피해운전자 상해정도_사망: -2.5836820206047713\n",
            "피해운전자 상해정도_상해없음: -13.306412957142145\n",
            "피해운전자 상해정도_중상: -32.663733509030486\n"
          ]
        }
      ]
    },
    {
      "cell_type": "markdown",
      "metadata": {
        "id": "o-D6VTRP4k1P"
      },
      "source": [
        "#시각화 관련"
      ]
    },
    {
      "cell_type": "code",
      "execution_count": null,
      "metadata": {
        "id": "D9iJcAY1Fdop"
      },
      "outputs": [],
      "source": [
        "# 빈도표\n",
        "plt.figure(figsize=(16, 12))\n",
        "sns.countplot(x='피해운전자 연령대', data=df, palette='viridis')\n",
        "plt.ylabel('빈도')\n",
        "plt.show()\n"
      ]
    },
    {
      "cell_type": "code",
      "execution_count": null,
      "metadata": {
        "id": "Gh4nOyj8KWrR"
      },
      "outputs": [],
      "source": [
        "# 커널 밀도 추정 그래프\n",
        "plt.figure(figsize=(10, 6))\n",
        "sns.kdeplot(data=df, x='사고발생시간', fill=True, color='skyblue')\n",
        "plt.title('사고발생시간별 분포')\n",
        "plt.xlabel('사고발생시간')\n",
        "plt.ylabel('밀도')\n",
        "plt.show()\n"
      ]
    },
    {
      "cell_type": "code",
      "execution_count": null,
      "metadata": {
        "id": "nNDQx9Vw6Yy8"
      },
      "outputs": [],
      "source": [
        "# 사고내용별 ECLO\n",
        "avg_eclo_by_accident = df.groupby('시군구')['TAD'].mean().reset_index()\n",
        "avg_eclo_all = df['TAD'].mean()\n",
        "\n",
        "# 막대 그래프\n",
        "plt.figure(figsize=(12, 8))\n",
        "sns.barplot(x='시군구', y='TAD', data=avg_eclo_by_accident, palette='viridis')\n",
        "plt.ylabel('평균 ETAD')\n",
        "plt.axhline(avg_eclo_all, color='r', linestyle='--', label='전체 평균 TAD')\n",
        "plt.legend()\n",
        "plt.xticks(rotation=45)\n",
        "plt.tight_layout()\n",
        "plt.show()"
      ]
    },
    {
      "cell_type": "code",
      "execution_count": null,
      "metadata": {
        "id": "_sDSQTbJ646A"
      },
      "outputs": [],
      "source": [
        "def categorize_age(age):\n",
        "    if age <= 19:\n",
        "        return '0~19'\n",
        "    elif age <= 45:\n",
        "        return '20~45'\n",
        "    elif age <= 60:\n",
        "        return '46~60'\n",
        "    else:\n",
        "        return '61 이상'\n",
        "\n",
        "# 연령을 범주\n",
        "df['피해운전자 연령대'] = df['피해운전자 연령'].apply(categorize_age)\n",
        "\n",
        "# 사고내용별 ECLO\n",
        "avg_eclo_by_accident = df.groupby('피해운전자 연령대')['TAD'].mean().reset_index()\n",
        "avg_eclo_all = df['ECLO'].mean()\n",
        "\n",
        "# 막대 그래프\n",
        "plt.figure(figsize=(12, 8))\n",
        "sns.barplot(x='피해운전자 연령대', y='TAD', data=avg_eclo_by_accident, palette='viridis')\n",
        "plt.ylabel('평균 TAD')\n",
        "plt.axhline(avg_eclo_all, color='r', linestyle='--', label='전체 평균 TAD')\n",
        "plt.legend()\n",
        "plt.xticks(rotation=45)\n",
        "plt.tight_layout()\n",
        "plt.show()"
      ]
    },
    {
      "cell_type": "code",
      "execution_count": null,
      "metadata": {
        "id": "gvYj5gQ4HjSJ"
      },
      "outputs": [],
      "source": [
        "# 3가지 이상의 피처를 활용한 히트맵\n",
        "\n",
        "heatmap_data = df.pivot_table(index='사고발생시간', columns='법규위반', values='TAD', aggfunc='mean')\n",
        "\n",
        "plt.figure(figsize=(14, 10))\n",
        "sns.heatmap(heatmap_data, cmap='viridis', annot=True, fmt=\".2f\", linewidths=.5)\n",
        "plt.title('사고 발생시간과 법규위반에 따른 TAD 평균')\n",
        "plt.xlabel('법규위반')\n",
        "plt.ylabel('사고발생시간')\n",
        "plt.show()\n"
      ]
    }
  ],
  "metadata": {
    "colab": {
      "collapsed_sections": [
        "ed1WX84Oe37e",
        "yHE-2bvoe8qf",
        "iWSRFGYjiMnk",
        "o-D6VTRP4k1P"
      ],
      "provenance": []
    },
    "kernelspec": {
      "display_name": "Python 3",
      "name": "python3"
    },
    "language_info": {
      "name": "python"
    }
  },
  "nbformat": 4,
  "nbformat_minor": 0
}