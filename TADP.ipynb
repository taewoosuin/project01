{
  "nbformat": 4,
  "nbformat_minor": 0,
  "metadata": {
    "colab": {
      "provenance": [],
      "collapsed_sections": [
        "ed1WX84Oe37e",
        "yHE-2bvoe8qf",
        "ykD4Y8LHx-Gy",
        "o-D6VTRP4k1P"
      ]
    },
    "kernelspec": {
      "name": "python3",
      "display_name": "Python 3"
    },
    "language_info": {
      "name": "python"
    }
  },
  "cells": [
    {
      "cell_type": "markdown",
      "source": [
        "#사전 작업"
      ],
      "metadata": {
        "id": "ed1WX84Oe37e"
      }
    },
    {
      "cell_type": "code",
      "source": [
        "from google.colab import drive\n",
        "drive.mount('/content/drive')"
      ],
      "metadata": {
        "id": "ysWrrU0Le2WD"
      },
      "execution_count": null,
      "outputs": []
    },
    {
      "cell_type": "markdown",
      "source": [
        "#데이터 전처리\n"
      ],
      "metadata": {
        "id": "yHE-2bvoe8qf"
      }
    },
    {
      "cell_type": "code",
      "execution_count": 27,
      "metadata": {
        "id": "UcgExl3dNjB9"
      },
      "outputs": [],
      "source": [
        "#import 및 파일 불러오기\n",
        "import pandas as pd\n",
        "import numpy as np\n",
        "import matplotlib.pyplot as plt\n",
        "import seaborn as sns\n",
        "import re\n",
        "from sklearn.preprocessing import StandardScaler\n",
        "from sklearn.model_selection import train_test_split\n",
        "from sklearn.ensemble import RandomForestRegressor, RandomForestClassifier\n",
        "from sklearn.metrics import mean_squared_error, mean_absolute_error, r2_score, accuracy_score, classification_report\n",
        "from scipy import stats\n",
        "\n",
        "plt.rc('font', family='NanumGothic')\n",
        "\n",
        "file_path = \"/content/drive/MyDrive/Colab Notebooks/01 DATA/accidentInfoList.CSV\"\n",
        "df = pd.read_csv(file_path, encoding='cp949')\n",
        "\n"
      ]
    },
    {
      "cell_type": "code",
      "source": [
        "# 숫자 추출 함수 생성\n",
        "def extract_numbers_from_age(age):\n",
        "    numbers = re.findall(r'\\d+', str(age))\n",
        "    if numbers:\n",
        "        return int(numbers[0])\n",
        "    else:\n",
        "        return np.nan\n",
        "\n",
        "# 문자 데이터 제거 및 숫자만 추출\n",
        "df['가해운전자 연령'] = df['가해운전자 연령'].apply(extract_numbers_from_age)\n",
        "df['피해운전자 연령'] = df['피해운전자 연령'].apply(extract_numbers_from_age)\n",
        "mean_age_driver = round(df['가해운전자 연령'].mean(), 1)\n",
        "mean_age_victim = round(df['피해운전자 연령'].mean(), 1)\n",
        "\n",
        "# 결측치 처리\n",
        "df['가해운전자 연령'].fillna(mean_age_driver, inplace=True)\n",
        "df['피해운전자 연령'].fillna(mean_age_victim, inplace=True)\n",
        "df['피해운전자 차종'].fillna('차량단독사고', inplace=True)\n",
        "df['피해운전자 성별'].fillna('차량단독사고', inplace=True)\n",
        "df['피해운전자 상해정도'].fillna('상해없음', inplace=True)\n"
      ],
      "metadata": {
        "id": "sE6suEWSAUr_"
      },
      "execution_count": 28,
      "outputs": []
    },
    {
      "cell_type": "code",
      "source": [
        "# 피쳐 생성\n",
        "df['ECLO'] = df['사망자수'] * 10 + df['중상자수'] * 5 + df['경상자수'] * 3 + df['부상신고자수'] * 1\n",
        "\n",
        "# '사고일시' 열에서 시간 정보 추출\n",
        "df['사고일시'] = pd.to_datetime(df['사고일시'], format='%Y년 %m월 %d일 %H시')\n",
        "df['사고발생시간'] = df['사고일시'].dt.hour\n",
        "\n",
        "# '시군구' 피처에서 '구' 정보만 남기기\n",
        "df['시군구'] = df['시군구'].apply(lambda x: x.split(' ')[1])"
      ],
      "metadata": {
        "id": "mNBXVK6E4FfA"
      },
      "execution_count": 29,
      "outputs": []
    },
    {
      "cell_type": "code",
      "source": [
        "#범주형 데이터 처리\n"
      ],
      "metadata": {
        "id": "gI0wTI-RVGyP"
      },
      "execution_count": 30,
      "outputs": []
    },
    {
      "cell_type": "code",
      "source": [
        "# 이상치 제거\n",
        "z_scores = np.abs(stats.zscore(df['ECLO']))\n",
        "outliers = (z_scores > 3)\n",
        "df_no_outliers = df[~outliers]\n"
      ],
      "metadata": {
        "id": "oPsq1B9FL7Sl"
      },
      "execution_count": 31,
      "outputs": []
    },
    {
      "cell_type": "code",
      "source": [
        "#스케일링\n",
        "eclo_data = df_no_outliers['ECLO'].values.reshape(-1, 1)\n",
        "scaler = StandardScaler()\n",
        "eclo_scaled = scaler.fit_transform(eclo_data)\n",
        "df_no_outliers['ECLO_scaled'] = eclo_scaled\n"
      ],
      "metadata": {
        "id": "SBVD-9VRIn_g"
      },
      "execution_count": null,
      "outputs": []
    },
    {
      "cell_type": "markdown",
      "source": [
        "#모델링"
      ],
      "metadata": {
        "id": "90u27H-I4lFG"
      }
    },
    {
      "cell_type": "code",
      "source": [
        "#회귀 모델 예시\n",
        "\n",
        "# 피처 선택\n",
        "features = ['경상자수', '중상자수', '사망자수']\n",
        "\n",
        "# 독립변수와 종속변수 분할\n",
        "X = df_no_outliers[features]\n",
        "y = df_no_outliers['ECLO_scaled']\n",
        "\n",
        "# 데이터 분할\n",
        "X_train, X_test, y_train, y_test = train_test_split(X, y, test_size=0.2, random_state=42)\n",
        "\n",
        "#모델 훈련\n",
        "rf_regressor = RandomForestRegressor(random_state=42)\n",
        "rf_regressor.fit(X_train, y_train)\n",
        "\n",
        "# 예측\n",
        "y_pred_train_rf = rf_regressor.predict(X_train)\n",
        "y_pred_test_rf = rf_regressor.predict(X_test)\n",
        "\n",
        "# 성능 평가\n",
        "print(\"Random Forest Regressor 성능 평가:\")\n",
        "print(\"훈련 세트 R2 점수:\", r2_score(y_train, y_pred_train_rf))\n",
        "print(\"테스트 세트 R2 점수:\", r2_score(y_test, y_pred_test_rf))\n",
        "print(\"훈련 세트 RMSE:\", mean_squared_error(y_train, y_pred_train_rf, squared=False))\n",
        "print(\"테스트 세트 RMSE:\", mean_squared_error(y_test, y_pred_test_rf, squared=False))\n",
        "print(\"훈련 세트 MAE:\", mean_absolute_error(y_train, y_pred_train_rf))\n",
        "print(\"테스트 세트 MAE:\", mean_absolute_error(y_test, y_pred_test_rf))\n",
        "\n",
        "# 피처 중요도 출력\n",
        "print(\"\\nRandom Forest Regressor 피처 중요도:\")\n",
        "rf_feature_importances = rf_regressor.feature_importances_\n",
        "for i, feature in enumerate(features):\n",
        "    print(f\"{feature}: {rf_feature_importances[i]}\")\n"
      ],
      "metadata": {
        "id": "Z01YduYryYku",
        "colab": {
          "base_uri": "https://localhost:8080/"
        },
        "outputId": "8d854e95-958b-40d2-d891-b9af9f45c211"
      },
      "execution_count": 33,
      "outputs": [
        {
          "output_type": "stream",
          "name": "stdout",
          "text": [
            "Random Forest Regressor 성능 평가:\n",
            "훈련 세트 R2 점수: 0.9900442586618505\n",
            "테스트 세트 R2 점수: 0.9881970895183898\n",
            "훈련 세트 RMSE: 0.09994262295832529\n",
            "테스트 세트 RMSE: 0.10791901376210082\n",
            "훈련 세트 MAE: 0.03166745233794578\n",
            "테스트 세트 MAE: 0.031942648591598045\n",
            "\n",
            "Random Forest Regressor 피처 중요도:\n",
            "경상자수: 0.578689391967671\n",
            "중상자수: 0.3507287437603595\n",
            "사망자수: 0.0705818642719696\n"
          ]
        }
      ]
    },
    {
      "cell_type": "code",
      "source": [
        "#분류형 모델 예시(ECLO 값 분포가 넓지 않아서 따로 범주화 진행하지는 않음)\n",
        "\n",
        "# 피처 선택\n",
        "features = ['경상자수', '중상자수', '사망자수']\n",
        "\n",
        "# 독립변수와 종속변수 분할\n",
        "X = df_no_outliers[features]\n",
        "y = df_no_outliers['ECLO']\n",
        "\n",
        "# 데이터 분할\n",
        "X_train, X_test, y_train, y_test = train_test_split(X, y, test_size=0.2, random_state=42)\n",
        "\n",
        "# RandomForestClassifier 모델 훈련\n",
        "rf_classifier = RandomForestClassifier(random_state=42)\n",
        "rf_classifier.fit(X_train, y_train)\n",
        "\n",
        "# 예측\n",
        "y_pred_train_rf_clf = rf_classifier.predict(X_train)\n",
        "y_pred_test_rf_clf = rf_classifier.predict(X_test)\n",
        "\n",
        "# 성능 평가\n",
        "print(\"Random Forest Classifier 성능 평가:\")\n",
        "print(\"훈련 정확도:\", accuracy_score(y_train, y_pred_train_rf_clf))\n",
        "print(\"테스트 정확도:\", accuracy_score(y_test, y_pred_test_rf_clf))\n",
        "\n",
        "# 피처 중요도 출력\n",
        "print(\"\\nRandom Forest Classifier 피처 중요도:\")\n",
        "rf_feature_importances = rf_classifier.feature_importances_\n",
        "for i, feature in enumerate(features):\n",
        "    print(f\"{feature}: {rf_feature_importances[i]}\")\n"
      ],
      "metadata": {
        "colab": {
          "base_uri": "https://localhost:8080/"
        },
        "id": "HzF6YrzSBrmr",
        "outputId": "5d5b3967-b2a1-4a78-d297-6a322a60bd67"
      },
      "execution_count": 34,
      "outputs": [
        {
          "output_type": "stream",
          "name": "stdout",
          "text": [
            "Random Forest Classifier 성능 평가:\n",
            "훈련 정확도: 0.9695893451720311\n",
            "테스트 정확도: 0.9703053322152617\n",
            "\n",
            "Random Forest Classifier 피처 중요도:\n",
            "경상자수: 0.685337384998239\n",
            "중상자수: 0.30006703521922445\n",
            "사망자수: 0.01459557978253646\n"
          ]
        }
      ]
    },
    {
      "cell_type": "markdown",
      "source": [
        "#SUB"
      ],
      "metadata": {
        "id": "ykD4Y8LHx-Gy"
      }
    },
    {
      "cell_type": "code",
      "source": [
        "print(df.columns.tolist())"
      ],
      "metadata": {
        "id": "d-o0CIaDx7AQ"
      },
      "execution_count": null,
      "outputs": []
    },
    {
      "cell_type": "code",
      "source": [
        "#원-핫 인코딩 예시\n",
        "categorical_features = ['요일']\n",
        "encoded_df = pd.get_dummies(df[categorical_features])\n",
        "df = df.drop(columns=categorical_features)\n",
        "df = pd.concat([df, encoded_df], axis=1)\n",
        "print(encoded_df.columns)\n"
      ],
      "metadata": {
        "id": "KQ6d-Izs6JW1"
      },
      "execution_count": null,
      "outputs": []
    },
    {
      "cell_type": "markdown",
      "source": [
        "#시각화 관련"
      ],
      "metadata": {
        "id": "o-D6VTRP4k1P"
      }
    },
    {
      "cell_type": "code",
      "source": [
        "!apt-get install -y fonts-nanum*\n",
        "!sudo fc-cache -fv\n",
        "!rm ~/.cache/matplotlib -rf"
      ],
      "metadata": {
        "id": "9SMmLqkze3SL"
      },
      "execution_count": null,
      "outputs": []
    },
    {
      "cell_type": "markdown",
      "source": [
        "데이터탐색에 들어갈 자료 생성"
      ],
      "metadata": {
        "id": "9U8h_7JALaAw"
      }
    },
    {
      "cell_type": "code",
      "source": [
        "# 빈도표\n",
        "plt.figure(figsize=(16, 12))\n",
        "sns.countplot(x='피해운전자 연령', data=df, palette='viridis')\n",
        "plt.ylabel('빈도')\n",
        "plt.show()\n"
      ],
      "metadata": {
        "id": "D9iJcAY1Fdop"
      },
      "execution_count": null,
      "outputs": []
    },
    {
      "cell_type": "code",
      "source": [
        "# 커널 밀도 추정 그래프\n",
        "plt.figure(figsize=(10, 6))\n",
        "sns.kdeplot(data=df, x='사고발생시간', fill=True, color='skyblue')\n",
        "plt.title('사고발생시간별 분포')\n",
        "plt.xlabel('사고발생시간')\n",
        "plt.ylabel('밀도')\n",
        "plt.show()\n"
      ],
      "metadata": {
        "id": "Gh4nOyj8KWrR"
      },
      "execution_count": null,
      "outputs": []
    },
    {
      "cell_type": "markdown",
      "source": [
        "시각화에 들어갈 자료 생성"
      ],
      "metadata": {
        "id": "ZOc4PSD_LTYL"
      }
    },
    {
      "cell_type": "code",
      "source": [
        "# 사고내용별 ECLO\n",
        "avg_eclo_by_accident = df.groupby('시군구')['ECLO'].mean().reset_index()\n",
        "avg_eclo_all = df['ECLO'].mean()\n",
        "\n",
        "# 막대 그래프\n",
        "plt.figure(figsize=(12, 8))\n",
        "sns.barplot(x='시군구', y='ECLO', data=avg_eclo_by_accident, palette='viridis')\n",
        "plt.ylabel('평균 ECLO')\n",
        "plt.axhline(avg_eclo_all, color='r', linestyle='--', label='전체 평균 ECLO')\n",
        "plt.legend()\n",
        "plt.xticks(rotation=45)\n",
        "plt.tight_layout()\n",
        "plt.show()"
      ],
      "metadata": {
        "id": "nNDQx9Vw6Yy8"
      },
      "execution_count": null,
      "outputs": []
    },
    {
      "cell_type": "code",
      "source": [
        "def categorize_age(age):\n",
        "    if age <= 19:\n",
        "        return '0~19'\n",
        "    elif age <= 45:\n",
        "        return '20~45'\n",
        "    elif age <= 60:\n",
        "        return '46~60'\n",
        "    else:\n",
        "        return '61 이상'\n",
        "\n",
        "# 연령을 범주\n",
        "df['피해운전자 연령대'] = df['피해운전자 연령'].apply(categorize_age)\n",
        "\n",
        "# 사고내용별 ECLO\n",
        "avg_eclo_by_accident = df.groupby('피해운전자 연령대')['ECLO'].mean().reset_index()\n",
        "avg_eclo_all = df['ECLO'].mean()\n",
        "\n",
        "# 막대 그래프\n",
        "plt.figure(figsize=(12, 8))\n",
        "sns.barplot(x='피해운전자 연령대', y='ECLO', data=avg_eclo_by_accident, palette='viridis')\n",
        "plt.ylabel('평균 ECLO')\n",
        "plt.axhline(avg_eclo_all, color='r', linestyle='--', label='전체 평균 ECLO')\n",
        "plt.legend()\n",
        "plt.xticks(rotation=45)\n",
        "plt.tight_layout()\n",
        "plt.show()"
      ],
      "metadata": {
        "id": "_sDSQTbJ646A"
      },
      "execution_count": null,
      "outputs": []
    },
    {
      "cell_type": "code",
      "source": [
        "# 3가지 이상의 피처를 활용한 히트맵\n",
        "\n",
        "heatmap_data = df.pivot_table(index='사고발생시간', columns='법규위반', values='ECLO', aggfunc='mean')\n",
        "\n",
        "plt.figure(figsize=(14, 10))\n",
        "sns.heatmap(heatmap_data, cmap='viridis', annot=True, fmt=\".2f\", linewidths=.5)\n",
        "plt.title('사고 발생시간과 법규위반에 따른 ECLO 평균')\n",
        "plt.xlabel('법규위반')\n",
        "plt.ylabel('사고발생시간')\n",
        "plt.show()\n"
      ],
      "metadata": {
        "id": "gvYj5gQ4HjSJ"
      },
      "execution_count": null,
      "outputs": []
    }
  ]
}