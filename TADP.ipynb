{
  "nbformat": 4,
  "nbformat_minor": 0,
  "metadata": {
    "colab": {
      "provenance": [],
      "collapsed_sections": [
        "ed1WX84Oe37e",
        "o-D6VTRP4k1P"
      ]
    },
    "kernelspec": {
      "name": "python3",
      "display_name": "Python 3"
    },
    "language_info": {
      "name": "python"
    }
  },
  "cells": [
    {
      "cell_type": "markdown",
      "source": [
        "#사전 작업"
      ],
      "metadata": {
        "id": "ed1WX84Oe37e"
      }
    },
    {
      "cell_type": "code",
      "source": [
        "from google.colab import drive\n",
        "drive.mount('/content/drive')"
      ],
      "metadata": {
        "id": "ysWrrU0Le2WD",
        "colab": {
          "base_uri": "https://localhost:8080/"
        },
        "outputId": "21d30970-dda8-406a-e5c9-698dc2155430"
      },
      "execution_count": 1,
      "outputs": [
        {
          "output_type": "stream",
          "name": "stdout",
          "text": [
            "Mounted at /content/drive\n"
          ]
        }
      ]
    },
    {
      "cell_type": "markdown",
      "source": [
        "#데이터 전처리\n"
      ],
      "metadata": {
        "id": "yHE-2bvoe8qf"
      }
    },
    {
      "cell_type": "code",
      "execution_count": 99,
      "metadata": {
        "id": "UcgExl3dNjB9"
      },
      "outputs": [],
      "source": [
        "#import 및 파일 불러오기\n",
        "import pandas as pd\n",
        "import numpy as np\n",
        "import matplotlib.pyplot as plt\n",
        "import seaborn as sns\n",
        "import re\n",
        "from sklearn.preprocessing import StandardScaler\n",
        "from sklearn.model_selection import train_test_split\n",
        "from sklearn.ensemble import RandomForestRegressor, RandomForestClassifier\n",
        "from sklearn.metrics import mean_squared_error, mean_absolute_error, r2_score, accuracy_score, classification_report\n",
        "from scipy import stats\n",
        "from sklearn.preprocessing import MinMaxScaler\n",
        "\n",
        "plt.rc('font', family='NanumGothic')\n",
        "\n",
        "file_path = \"/content/drive/MyDrive/Colab Notebooks/01 DATA/accidentInfoList.CSV\"\n",
        "df = pd.read_csv(file_path, encoding='cp949')\n",
        "\n"
      ]
    },
    {
      "cell_type": "code",
      "source": [
        "# 숫자 추출 함수 생성\n",
        "def extract_numbers_from_age(age):\n",
        "    numbers = re.findall(r'\\d+', str(age))\n",
        "    if numbers:\n",
        "        return int(numbers[0])\n",
        "    else:\n",
        "        return np.nan\n",
        "\n",
        "# 문자 데이터 제거 및 숫자만 추출\n",
        "df['가해운전자 연령'] = df['가해운전자 연령'].apply(extract_numbers_from_age)\n",
        "df['피해운전자 연령'] = df['피해운전자 연령'].apply(extract_numbers_from_age)\n",
        "mean_age_driver = round(df['가해운전자 연령'].mean(), 1)\n",
        "mean_age_victim = round(df['피해운전자 연령'].mean(), 1)\n",
        "\n",
        "# 결측치 처리\n",
        "df['가해운전자 연령'].fillna(mean_age_driver, inplace=True)\n",
        "df['피해운전자 연령'].fillna(mean_age_victim, inplace=True)\n",
        "df['피해운전자 차종'].fillna('기타불명', inplace=True)\n",
        "df['피해운전자 성별'].fillna('기타불명', inplace=True)\n"
      ],
      "metadata": {
        "id": "sE6suEWSAUr_"
      },
      "execution_count": 100,
      "outputs": []
    },
    {
      "cell_type": "code",
      "source": [
        "# 피쳐 생성\n",
        "df['ECLO'] = df['사망자수'] * 10 + df['중상자수'] * 5 + df['경상자수'] * 3 + df['부상신고자수'] * 1\n",
        "df.drop(columns=['사망자수','경상자수','중상자수','부상신고자수'], inplace=True)\n",
        "\n",
        "# '사고일시' 열에서 시간 정보 추출\n",
        "df['사고일시'] = pd.to_datetime(df['사고일시'], format='%Y년 %m월 %d일 %H시')\n",
        "df['사고발생시간'] = df['사고일시'].dt.hour\n",
        "df.drop(columns=['사고일시'], inplace=True)\n",
        "\n",
        "# '시군구' 피처에서 '구' 정보만 남기기\n",
        "df['시군구'] = df['시군구'].apply(lambda x: x.split(' ')[1])\n",
        "\n",
        "#피쳐 제거\n",
        "df.drop(columns=['사고번호','사고내용','시군구','가해운전자 상해정도','피해운전자 상해정도'], inplace=True)"
      ],
      "metadata": {
        "id": "mNBXVK6E4FfA"
      },
      "execution_count": 101,
      "outputs": []
    },
    {
      "cell_type": "code",
      "source": [
        "#범주형 데이터 처리\n",
        "# '요일'\n",
        "def categorize_weekday(weekday):\n",
        "    if weekday in ['월요일', '화요일', '수요일', '목요일', '금요일']:\n",
        "        return '평일'\n",
        "    else:\n",
        "        return '주말'\n",
        "\n",
        "df['평일/주말'] = df['요일'].apply(categorize_weekday)\n",
        "df.drop(columns=['요일'], inplace=True)\n",
        "\n",
        "# 사고발생시간\n",
        "def recategorize_time_of_day(hour):\n",
        "    if 21 <= hour <= 24 or 0 <= hour < 6:\n",
        "        return '야간'\n",
        "    else:\n",
        "        return '주간'\n",
        "\n",
        "df['시간대'] = df['사고발생시간'].apply(recategorize_time_of_day)\n",
        "df.drop(columns=['사고발생시간'], inplace=True)\n",
        "\n",
        "# 연령\n",
        "def categorize_age(age):\n",
        "    if age <= 19:\n",
        "        return '미성년층'\n",
        "    elif 20 <= age <= 45:\n",
        "        return '청년층'\n",
        "    elif 46 <= age <= 60:\n",
        "        return '중장년층'\n",
        "    else:\n",
        "        return '노년층'\n",
        "\n",
        "df['가해운전자 연령대'] = df['가해운전자 연령'].apply(categorize_age)\n",
        "df.drop(columns=['가해운전자 연령'], inplace=True)\n",
        "df['피해운전자 연령대'] = df['피해운전자 연령'].apply(categorize_age)\n",
        "df.drop(columns=['피해운전자 연령'], inplace=True)\n"
      ],
      "metadata": {
        "id": "gI0wTI-RVGyP"
      },
      "execution_count": 102,
      "outputs": []
    },
    {
      "cell_type": "code",
      "source": [
        "#인코딩\n",
        "def one_hot_encode_features(df, categorical_features):\n",
        "    for feature in categorical_features:\n",
        "        encoded_df = pd.get_dummies(df[feature], prefix=feature)\n",
        "        df = df.drop(columns=[feature])\n",
        "        df = pd.concat([df, encoded_df], axis=1)\n",
        "\n",
        "    return df\n",
        "\n",
        "categorical_features = ['사고유형', '법규위반', '노면상태', '기상상태', '도로형태',\n",
        "                        '가해운전자 차종', '가해운전자 성별', '피해운전자 차종',\n",
        "                        '피해운전자 성별', '평일/주말', '시간대',\n",
        "                        '가해운전자 연령대', '피해운전자 연령대']\n",
        "\n",
        "df = one_hot_encode_features(df, categorical_features)\n"
      ],
      "metadata": {
        "id": "qDWxZwV2VlMg"
      },
      "execution_count": 103,
      "outputs": []
    },
    {
      "cell_type": "code",
      "source": [
        "# 이상치 제거\n",
        "z_scores = np.abs(stats.zscore(df['ECLO']))\n",
        "outliers = (z_scores > 3)\n",
        "df_no_outliers = df[~outliers]\n"
      ],
      "metadata": {
        "id": "oPsq1B9FL7Sl"
      },
      "execution_count": 104,
      "outputs": []
    },
    {
      "cell_type": "code",
      "source": [
        "# MINMAX 스케일러 적용\n",
        "minmax_scaler = MinMaxScaler()\n",
        "eclo_minmax_scaled = minmax_scaler.fit_transform(eclo_data)\n",
        "df_no_outliers['ECLO_scaled'] = eclo_minmax_scaled\n"
      ],
      "metadata": {
        "id": "SBVD-9VRIn_g"
      },
      "execution_count": null,
      "outputs": []
    },
    {
      "cell_type": "markdown",
      "source": [
        "#모델링"
      ],
      "metadata": {
        "id": "90u27H-I4lFG"
      }
    },
    {
      "cell_type": "code",
      "source": [
        "# 피처 선택\n",
        "features = ['사고유형_차대사람 - 기타', '사고유형_차대사람 - 길가장자리구역통행중', '사고유형_차대사람 - 보도통행중', '사고유형_차대사람 - 차도통행중', '사고유형_차대사람 - 횡단중', '사고유형_차대차 - 기타', '사고유형_차대차 - 정면충돌', '사고유형_차대차 - 추돌', '사고유형_차대차 - 측면충돌', '사고유형_차대차 - 후진중충돌', '사고유형_차량단독 - 공작물충돌', '사고유형_차량단독 - 기타', '사고유형_차량단독 - 도로외이탈 - 기타', '사고유형_차량단독 - 도로외이탈 - 추락', '사고유형_차량단독 - 전도전복 - 전도', '사고유형_차량단독 - 전도전복 - 전복', '사고유형_차량단독 - 주/정차차량 충돌', '법규위반_과속', '법규위반_교차로운행방법위반', '법규위반_기타', '법규위반_보행자보호의무위반', '법규위반_불법유턴', '법규위반_신호위반', '법규위반_안전거리미확보', '법규위반_안전운전불이행', '법규위반_중앙선침범', '법규위반_직진우회전진행방해', '법규위반_차로위반', '노면상태_건조', '노면상태_기타', '노면상태_서리/결빙', '노면상태_적설', '노면상태_젖음/습기', '노면상태_침수', '노면상태_해빙', '기상상태_기타', '기상상태_눈', '기상상태_맑음', '기상상태_비', '기상상태_안개', '기상상태_흐림', '도로형태_교차로 - 교차로부근', '도로형태_교차로 - 교차로안', '도로형태_교차로 - 교차로횡단보도내', '도로형태_기타 - 기타', '도로형태_단일로 - 고가도로위', '도로형태_단일로 - 교량', '도로형태_단일로 - 기타', '도로형태_단일로 - 지하차도(도로)내', '도로형태_단일로 - 터널', '도로형태_미분류 - 미분류', '도로형태_주차장 - 주차장', '가해운전자 차종_개인형이동수단(PM)', '가해운전자 차종_건설기계', '가해운전자 차종_기타불명', '가해운전자 차종_농기계', '가해운전자 차종_사륜오토바이(ATV)', '가해운전자 차종_승용', '가해운전자 차종_승합', '가해운전자 차종_원동기', '가해운전자 차종_이륜', '가해운전자 차종_자전거', '가해운전자 차종_특수', '가해운전자 차종_화물', '가해운전자 성별_기타불명', '가해운전자 성별_남', '가해운전자 성별_여', '피해운전자 차종_개인형이동수단(PM)', '피해운전자 차종_건설기계', '피해운전자 차종_기타불명', '피해운전자 차종_보행자', '피해운전자 차종_사륜오토바이(ATV)', '피해운전자 차종_승용', '피해운전자 차종_승합', '피해운전자 차종_원동기', '피해운전자 차종_이륜', '피해운전자 차종_자전거', '피해운전자 차종_특수', '피해운전자 차종_화물', '피해운전자 성별_기타불명', '피해운전자 성별_남', '피해운전자 성별_여', '평일/주말_주말', '평일/주말_평일', '시간대_야간', '시간대_주간', '가해운전자 연령대_노년층', '가해운전자 연령대_미성년층', '가해운전자 연령대_중장년층', '가해운전자 연령대_청년층', '피해운전자 연령대_노년층', '피해운전자 연령대_미성년층', '피해운전자 연령대_중장년층', '피해운전자 연령대_청년층']\n"
      ],
      "metadata": {
        "id": "LjRi2X1QYc3a"
      },
      "execution_count": 106,
      "outputs": []
    },
    {
      "cell_type": "code",
      "source": [
        "#회귀 모델 예시\n",
        "\n",
        "# 독립변수와 종속변수 분할\n",
        "X = df_no_outliers[features]\n",
        "y = df_no_outliers['ECLO_scaled']\n",
        "\n",
        "# 데이터 분할\n",
        "X_train, X_test, y_train, y_test = train_test_split(X, y, test_size=0.2, random_state=42)\n",
        "\n",
        "#모델 훈련\n",
        "rf_regressor = RandomForestRegressor(random_state=42)\n",
        "rf_regressor.fit(X_train, y_train)\n",
        "\n",
        "# 예측\n",
        "y_pred_train_rf = rf_regressor.predict(X_train)\n",
        "y_pred_test_rf = rf_regressor.predict(X_test)\n",
        "\n",
        "# 성능 평가\n",
        "print(\"Random Forest Regressor 성능 평가:\")\n",
        "print(\"훈련 세트 R2 점수:\", r2_score(y_train, y_pred_train_rf))\n",
        "print(\"테스트 세트 R2 점수:\", r2_score(y_test, y_pred_test_rf))\n",
        "print(\"훈련 세트 RMSE:\", mean_squared_error(y_train, y_pred_train_rf, squared=False))\n",
        "print(\"테스트 세트 RMSE:\", mean_squared_error(y_test, y_pred_test_rf, squared=False))\n",
        "print(\"훈련 세트 MAE:\", mean_absolute_error(y_train, y_pred_train_rf))\n",
        "print(\"테스트 세트 MAE:\", mean_absolute_error(y_test, y_pred_test_rf))\n",
        "\n",
        "# 피처 중요도 출력\n",
        "print(\"\\nRandom Forest Regressor 피처 중요도:\")\n",
        "rf_feature_importances = rf_regressor.feature_importances_\n",
        "for i, feature in enumerate(features):\n",
        "    print(f\"{feature}: {rf_feature_importances[i]}\")\n"
      ],
      "metadata": {
        "id": "Z01YduYryYku",
        "colab": {
          "base_uri": "https://localhost:8080/"
        },
        "outputId": "3678e849-c045-42bd-811e-641f77a71724"
      },
      "execution_count": 107,
      "outputs": [
        {
          "output_type": "stream",
          "name": "stdout",
          "text": [
            "Random Forest Regressor 성능 평가:\n",
            "훈련 세트 R2 점수: 0.49538691321927586\n",
            "테스트 세트 R2 점수: -0.07156369526844997\n",
            "훈련 세트 RMSE: 0.12655853871465844\n",
            "테스트 세트 RMSE: 0.18289871863853802\n",
            "훈련 세트 MAE: 0.08824363969148007\n",
            "테스트 세트 MAE: 0.13700896075193073\n",
            "\n",
            "Random Forest Regressor 피처 중요도:\n",
            "사고유형_차대사람 - 기타: 0.004247259713282374\n",
            "사고유형_차대사람 - 길가장자리구역통행중: 0.0016082778053269182\n",
            "사고유형_차대사람 - 보도통행중: 0.002616451418736838\n",
            "사고유형_차대사람 - 차도통행중: 0.0030324221704515044\n",
            "사고유형_차대사람 - 횡단중: 0.004307768357853614\n",
            "사고유형_차대차 - 기타: 0.020953059715309294\n",
            "사고유형_차대차 - 정면충돌: 0.009950408973708564\n",
            "사고유형_차대차 - 추돌: 0.014751739013189385\n",
            "사고유형_차대차 - 측면충돌: 0.022366623121863306\n",
            "사고유형_차대차 - 후진중충돌: 0.004372960177508877\n",
            "사고유형_차량단독 - 공작물충돌: 0.0011269658583865727\n",
            "사고유형_차량단독 - 기타: 0.0010133987657594634\n",
            "사고유형_차량단독 - 도로외이탈 - 기타: 2.427879938165764e-05\n",
            "사고유형_차량단독 - 도로외이탈 - 추락: 0.00022096769429248166\n",
            "사고유형_차량단독 - 전도전복 - 전도: 0.0006133229878646112\n",
            "사고유형_차량단독 - 전도전복 - 전복: 0.00025835744666462913\n",
            "사고유형_차량단독 - 주/정차차량 충돌: 2.702272410917235e-05\n",
            "법규위반_과속: 0.002391745879157578\n",
            "법규위반_교차로운행방법위반: 0.010559671794305467\n",
            "법규위반_기타: 0.01098053651686148\n",
            "법규위반_보행자보호의무위반: 0.002721596144378012\n",
            "법규위반_불법유턴: 0.004072007723029518\n",
            "법규위반_신호위반: 0.01385760006880223\n",
            "법규위반_안전거리미확보: 0.019974853577110104\n",
            "법규위반_안전운전불이행: 0.024365588091760874\n",
            "법규위반_중앙선침범: 0.010164437570277263\n",
            "법규위반_직진우회전진행방해: 0.006389111632169398\n",
            "법규위반_차로위반: 0.008008889465677098\n",
            "노면상태_건조: 0.014704173415559489\n",
            "노면상태_기타: 0.008056777190449973\n",
            "노면상태_서리/결빙: 0.002654079511083719\n",
            "노면상태_적설: 0.0013717508510136677\n",
            "노면상태_젖음/습기: 0.011717033540052608\n",
            "노면상태_침수: 6.691988874300783e-05\n",
            "노면상태_해빙: 0.00018343640366229536\n",
            "기상상태_기타: 0.008607148953335348\n",
            "기상상태_눈: 0.0020048242637351675\n",
            "기상상태_맑음: 0.01790557215137173\n",
            "기상상태_비: 0.01122166575712432\n",
            "기상상태_안개: 4.132386515172199e-05\n",
            "기상상태_흐림: 0.013779952426373495\n",
            "도로형태_교차로 - 교차로부근: 0.02923846282760962\n",
            "도로형태_교차로 - 교차로안: 0.030605562736731935\n",
            "도로형태_교차로 - 교차로횡단보도내: 0.007911608687047211\n",
            "도로형태_기타 - 기타: 0.019703309666131028\n",
            "도로형태_단일로 - 고가도로위: 0.00474680547003452\n",
            "도로형태_단일로 - 교량: 0.00699944741533398\n",
            "도로형태_단일로 - 기타: 0.03520345757595149\n",
            "도로형태_단일로 - 지하차도(도로)내: 0.005671337720624964\n",
            "도로형태_단일로 - 터널: 0.004523657337102322\n",
            "도로형태_미분류 - 미분류: 0.0004890243605365367\n",
            "도로형태_주차장 - 주차장: 0.0019375122186866716\n",
            "가해운전자 차종_개인형이동수단(PM): 0.004330381179276274\n",
            "가해운전자 차종_건설기계: 0.0043415509996229135\n",
            "가해운전자 차종_기타불명: 0.0015268060399986376\n",
            "가해운전자 차종_농기계: 8.04048472547744e-06\n",
            "가해운전자 차종_사륜오토바이(ATV): 0.00015635399458810095\n",
            "가해운전자 차종_승용: 0.02854012618592671\n",
            "가해운전자 차종_승합: 0.011634499863079822\n",
            "가해운전자 차종_원동기: 0.006525307801874942\n",
            "가해운전자 차종_이륜: 0.013029456499844307\n",
            "가해운전자 차종_자전거: 0.01573052375079214\n",
            "가해운전자 차종_특수: 0.0018733089250617398\n",
            "가해운전자 차종_화물: 0.012200483012264477\n",
            "가해운전자 성별_기타불명: 0.00717553977787847\n",
            "가해운전자 성별_남: 0.023430421448039414\n",
            "가해운전자 성별_여: 0.023802829518276523\n",
            "피해운전자 차종_개인형이동수단(PM): 0.0015498707993142594\n",
            "피해운전자 차종_건설기계: 0.0020153101394904337\n",
            "피해운전자 차종_기타불명: 0.0006777108109928699\n",
            "피해운전자 차종_보행자: 0.0036976079495594167\n",
            "피해운전자 차종_사륜오토바이(ATV): 0.0002502495874334291\n",
            "피해운전자 차종_승용: 0.0355617012714199\n",
            "피해운전자 차종_승합: 0.007044012617409951\n",
            "피해운전자 차종_원동기: 0.0034624664539150904\n",
            "피해운전자 차종_이륜: 0.006954259375850388\n",
            "피해운전자 차종_자전거: 0.004432699613075636\n",
            "피해운전자 차종_특수: 0.0013942216954794394\n",
            "피해운전자 차종_화물: 0.0070218039518701765\n",
            "피해운전자 성별_기타불명: 0.0016358246412542148\n",
            "피해운전자 성별_남: 0.023739522141041858\n",
            "피해운전자 성별_여: 0.02451314091587002\n",
            "평일/주말_주말: 0.025260543575856238\n",
            "평일/주말_평일: 0.019167214972326502\n",
            "시간대_야간: 0.022941455345636495\n",
            "시간대_주간: 0.01795386015925516\n",
            "가해운전자 연령대_노년층: 0.03284234575424912\n",
            "가해운전자 연령대_미성년층: 0.011171829153775544\n",
            "가해운전자 연령대_중장년층: 0.036386516654602366\n",
            "가해운전자 연령대_청년층: 0.03484775570079876\n",
            "피해운전자 연령대_노년층: 0.02157819206317132\n",
            "피해운전자 연령대_미성년층: 0.006669007635494004\n",
            "피해운전자 연령대_중장년층: 0.023702661359876257\n",
            "피해운전자 연령대_청년층: 0.024900418739065875\n"
          ]
        }
      ]
    },
    {
      "cell_type": "code",
      "source": [
        "#분류형 모델 예시(ECLO 값 분포가 넓지 않아서 따로 범주화 진행하지는 않음)\n",
        "\n",
        "# 독립변수와 종속변수 분할\n",
        "X = df_no_outliers[features]\n",
        "y = df_no_outliers['ECLO']\n",
        "\n",
        "# 데이터 분할\n",
        "X_train, X_test, y_train, y_test = train_test_split(X, y, test_size=0.2, random_state=42)\n",
        "\n",
        "# RandomForestClassifier 모델 훈련\n",
        "rf_classifier = RandomForestClassifier(random_state=42)\n",
        "rf_classifier.fit(X_train, y_train)\n",
        "\n",
        "# 예측\n",
        "y_pred_train_rf_clf = rf_classifier.predict(X_train)\n",
        "y_pred_test_rf_clf = rf_classifier.predict(X_test)\n",
        "\n",
        "# 성능 평가\n",
        "print(\"Random Forest Classifier 성능 평가:\")\n",
        "print(\"훈련 정확도:\", accuracy_score(y_train, y_pred_train_rf_clf))\n",
        "print(\"테스트 정확도:\", accuracy_score(y_test, y_pred_test_rf_clf))\n",
        "\n",
        "# 피처 중요도 출력\n",
        "print(\"\\nRandom Forest Classifier 피처 중요도:\")\n",
        "rf_feature_importances = rf_classifier.feature_importances_\n",
        "for i, feature in enumerate(features):\n",
        "    print(f\"{feature}: {rf_feature_importances[i]}\")\n"
      ],
      "metadata": {
        "colab": {
          "base_uri": "https://localhost:8080/"
        },
        "id": "HzF6YrzSBrmr",
        "outputId": "48d64c92-5003-48b4-c630-5b8719eecb0f"
      },
      "execution_count": 108,
      "outputs": [
        {
          "output_type": "stream",
          "name": "stdout",
          "text": [
            "Random Forest Classifier 성능 평가:\n",
            "훈련 정확도: 0.7659390800345295\n",
            "테스트 정확도: 0.49716371528634146\n",
            "\n",
            "Random Forest Classifier 피처 중요도:\n",
            "사고유형_차대사람 - 기타: 0.006432494525483153\n",
            "사고유형_차대사람 - 길가장자리구역통행중: 0.002510009434299779\n",
            "사고유형_차대사람 - 보도통행중: 0.00334431990485517\n",
            "사고유형_차대사람 - 차도통행중: 0.003561414508116238\n",
            "사고유형_차대사람 - 횡단중: 0.007079808015120678\n",
            "사고유형_차대차 - 기타: 0.021590181607321263\n",
            "사고유형_차대차 - 정면충돌: 0.008587062802541076\n",
            "사고유형_차대차 - 추돌: 0.01419022453548966\n",
            "사고유형_차대차 - 측면충돌: 0.022310436313331388\n",
            "사고유형_차대차 - 후진중충돌: 0.0036923106658850453\n",
            "사고유형_차량단독 - 공작물충돌: 0.000879396761120392\n",
            "사고유형_차량단독 - 기타: 0.0011353508300385856\n",
            "사고유형_차량단독 - 도로외이탈 - 기타: 4.2209482360359936e-05\n",
            "사고유형_차량단독 - 도로외이탈 - 추락: 8.993574713793976e-05\n",
            "사고유형_차량단독 - 전도전복 - 전도: 0.000702464687293464\n",
            "사고유형_차량단독 - 전도전복 - 전복: 0.00014682554372915792\n",
            "사고유형_차량단독 - 주/정차차량 충돌: 3.63023565079022e-05\n",
            "법규위반_과속: 0.001087196124805442\n",
            "법규위반_교차로운행방법위반: 0.010600480232504957\n",
            "법규위반_기타: 0.011235988719273692\n",
            "법규위반_보행자보호의무위반: 0.004447438369399715\n",
            "법규위반_불법유턴: 0.0041129062714318956\n",
            "법규위반_신호위반: 0.016786303843760723\n",
            "법규위반_안전거리미확보: 0.01788378183482601\n",
            "법규위반_안전운전불이행: 0.030261639432435247\n",
            "법규위반_중앙선침범: 0.009571465610631862\n",
            "법규위반_직진우회전진행방해: 0.0068027629584288775\n",
            "법규위반_차로위반: 0.006838254709015841\n",
            "노면상태_건조: 0.015245363414897541\n",
            "노면상태_기타: 0.007172514613192127\n",
            "노면상태_서리/결빙: 0.0021043320457767483\n",
            "노면상태_적설: 0.0008872826441126314\n",
            "노면상태_젖음/습기: 0.01159236425970443\n",
            "노면상태_침수: 0.00010572033883676898\n",
            "노면상태_해빙: 7.03626743997841e-05\n",
            "기상상태_기타: 0.007780507006636337\n",
            "기상상태_눈: 0.00171251510540526\n",
            "기상상태_맑음: 0.018601984177229813\n",
            "기상상태_비: 0.009454089139362801\n",
            "기상상태_안개: 6.0903720794852044e-05\n",
            "기상상태_흐림: 0.012896054474476375\n",
            "도로형태_교차로 - 교차로부근: 0.030857130022005918\n",
            "도로형태_교차로 - 교차로안: 0.030110144579942683\n",
            "도로형태_교차로 - 교차로횡단보도내: 0.009795626175993739\n",
            "도로형태_기타 - 기타: 0.020291700850519713\n",
            "도로형태_단일로 - 고가도로위: 0.003691622428803941\n",
            "도로형태_단일로 - 교량: 0.00521037267554342\n",
            "도로형태_단일로 - 기타: 0.03968096506393112\n",
            "도로형태_단일로 - 지하차도(도로)내: 0.004764972833462857\n",
            "도로형태_단일로 - 터널: 0.0028712643169059105\n",
            "도로형태_미분류 - 미분류: 0.0005794027351243487\n",
            "도로형태_주차장 - 주차장: 0.002271614764070034\n",
            "가해운전자 차종_개인형이동수단(PM): 0.00484356037048858\n",
            "가해운전자 차종_건설기계: 0.0036995443248673825\n",
            "가해운전자 차종_기타불명: 0.0028910386228863773\n",
            "가해운전자 차종_농기계: 2.363588294915359e-05\n",
            "가해운전자 차종_사륜오토바이(ATV): 0.00015070771781144275\n",
            "가해운전자 차종_승용: 0.01916620401113066\n",
            "가해운전자 차종_승합: 0.011716578078911617\n",
            "가해운전자 차종_원동기: 0.006626136321828866\n",
            "가해운전자 차종_이륜: 0.01358782011710869\n",
            "가해운전자 차종_자전거: 0.010893397059299951\n",
            "가해운전자 차종_특수: 0.001511040474532468\n",
            "가해운전자 차종_화물: 0.013639225598604999\n",
            "가해운전자 성별_기타불명: 0.0030139389445536157\n",
            "가해운전자 성별_남: 0.023101394869437252\n",
            "가해운전자 성별_여: 0.02248527195682759\n",
            "피해운전자 차종_개인형이동수단(PM): 0.0023564419522590346\n",
            "피해운전자 차종_건설기계: 0.0017392106183089864\n",
            "피해운전자 차종_기타불명: 0.0014022006357623667\n",
            "피해운전자 차종_보행자: 0.010973658931304286\n",
            "피해운전자 차종_사륜오토바이(ATV): 0.00017921879109745813\n",
            "피해운전자 차종_승용: 0.026844987523029742\n",
            "피해운전자 차종_승합: 0.007287873883520556\n",
            "피해운전자 차종_원동기: 0.004747001962901272\n",
            "피해운전자 차종_이륜: 0.012504446153894108\n",
            "피해운전자 차종_자전거: 0.007246255279018914\n",
            "피해운전자 차종_특수: 0.0010165298572921662\n",
            "피해운전자 차종_화물: 0.007257714639380013\n",
            "피해운전자 성별_기타불명: 0.001092662081361493\n",
            "피해운전자 성별_남: 0.02022058276420182\n",
            "피해운전자 성별_여: 0.020010142951183682\n",
            "평일/주말_주말: 0.02483093204154055\n",
            "평일/주말_평일: 0.024523009180820076\n",
            "시간대_야간: 0.01925591653706136\n",
            "시간대_주간: 0.019163542724598696\n",
            "가해운전자 연령대_노년층: 0.03352795300843317\n",
            "가해운전자 연령대_미성년층: 0.01050688095765136\n",
            "가해운전자 연령대_중장년층: 0.03863117857489697\n",
            "가해운전자 연령대_청년층: 0.03893300354043268\n",
            "피해운전자 연령대_노년층: 0.021834513080269954\n",
            "피해운전자 연령대_미성년층: 0.007682717196502293\n",
            "피해운전자 연령대_중장년층: 0.022355269124307478\n",
            "피해운전자 연령대_청년층: 0.022758885769456193\n"
          ]
        }
      ]
    },
    {
      "cell_type": "markdown",
      "source": [
        "#SUB"
      ],
      "metadata": {
        "id": "ykD4Y8LHx-Gy"
      }
    },
    {
      "cell_type": "code",
      "source": [
        "print(df.columns.tolist())"
      ],
      "metadata": {
        "id": "d-o0CIaDx7AQ"
      },
      "execution_count": null,
      "outputs": []
    },
    {
      "cell_type": "code",
      "source": [
        "#원-핫 인코딩 예시\n",
        "categorical_features = ['요일']\n",
        "encoded_df = pd.get_dummies(df[categorical_features])\n",
        "df = df.drop(columns=categorical_features)\n",
        "df = pd.concat([df, encoded_df], axis=1)\n",
        "print(encoded_df.columns)\n"
      ],
      "metadata": {
        "id": "KQ6d-Izs6JW1"
      },
      "execution_count": null,
      "outputs": []
    },
    {
      "cell_type": "markdown",
      "source": [
        "#시각화 관련"
      ],
      "metadata": {
        "id": "o-D6VTRP4k1P"
      }
    },
    {
      "cell_type": "code",
      "source": [
        "!apt-get install -y fonts-nanum*\n",
        "!sudo fc-cache -fv\n",
        "!rm ~/.cache/matplotlib -rf"
      ],
      "metadata": {
        "id": "9SMmLqkze3SL"
      },
      "execution_count": null,
      "outputs": []
    },
    {
      "cell_type": "markdown",
      "source": [
        "데이터탐색에 들어갈 자료 생성"
      ],
      "metadata": {
        "id": "9U8h_7JALaAw"
      }
    },
    {
      "cell_type": "code",
      "source": [
        "# 빈도표\n",
        "plt.figure(figsize=(16, 12))\n",
        "sns.countplot(x='피해운전자 연령', data=df, palette='viridis')\n",
        "plt.ylabel('빈도')\n",
        "plt.show()\n"
      ],
      "metadata": {
        "id": "D9iJcAY1Fdop"
      },
      "execution_count": null,
      "outputs": []
    },
    {
      "cell_type": "code",
      "source": [
        "# 커널 밀도 추정 그래프\n",
        "plt.figure(figsize=(10, 6))\n",
        "sns.kdeplot(data=df, x='사고발생시간', fill=True, color='skyblue')\n",
        "plt.title('사고발생시간별 분포')\n",
        "plt.xlabel('사고발생시간')\n",
        "plt.ylabel('밀도')\n",
        "plt.show()\n"
      ],
      "metadata": {
        "id": "Gh4nOyj8KWrR"
      },
      "execution_count": null,
      "outputs": []
    },
    {
      "cell_type": "markdown",
      "source": [
        "시각화에 들어갈 자료 생성"
      ],
      "metadata": {
        "id": "ZOc4PSD_LTYL"
      }
    },
    {
      "cell_type": "code",
      "source": [
        "# 사고내용별 ECLO\n",
        "avg_eclo_by_accident = df.groupby('시군구')['ECLO'].mean().reset_index()\n",
        "avg_eclo_all = df['ECLO'].mean()\n",
        "\n",
        "# 막대 그래프\n",
        "plt.figure(figsize=(12, 8))\n",
        "sns.barplot(x='시군구', y='ECLO', data=avg_eclo_by_accident, palette='viridis')\n",
        "plt.ylabel('평균 ECLO')\n",
        "plt.axhline(avg_eclo_all, color='r', linestyle='--', label='전체 평균 ECLO')\n",
        "plt.legend()\n",
        "plt.xticks(rotation=45)\n",
        "plt.tight_layout()\n",
        "plt.show()"
      ],
      "metadata": {
        "id": "nNDQx9Vw6Yy8"
      },
      "execution_count": null,
      "outputs": []
    },
    {
      "cell_type": "code",
      "source": [
        "def categorize_age(age):\n",
        "    if age <= 19:\n",
        "        return '0~19'\n",
        "    elif age <= 45:\n",
        "        return '20~45'\n",
        "    elif age <= 60:\n",
        "        return '46~60'\n",
        "    else:\n",
        "        return '61 이상'\n",
        "\n",
        "# 연령을 범주\n",
        "df['피해운전자 연령대'] = df['피해운전자 연령'].apply(categorize_age)\n",
        "\n",
        "# 사고내용별 ECLO\n",
        "avg_eclo_by_accident = df.groupby('피해운전자 연령대')['ECLO'].mean().reset_index()\n",
        "avg_eclo_all = df['ECLO'].mean()\n",
        "\n",
        "# 막대 그래프\n",
        "plt.figure(figsize=(12, 8))\n",
        "sns.barplot(x='피해운전자 연령대', y='ECLO', data=avg_eclo_by_accident, palette='viridis')\n",
        "plt.ylabel('평균 ECLO')\n",
        "plt.axhline(avg_eclo_all, color='r', linestyle='--', label='전체 평균 ECLO')\n",
        "plt.legend()\n",
        "plt.xticks(rotation=45)\n",
        "plt.tight_layout()\n",
        "plt.show()"
      ],
      "metadata": {
        "id": "_sDSQTbJ646A"
      },
      "execution_count": null,
      "outputs": []
    },
    {
      "cell_type": "code",
      "source": [
        "# 3가지 이상의 피처를 활용한 히트맵\n",
        "\n",
        "heatmap_data = df.pivot_table(index='사고발생시간', columns='법규위반', values='ECLO', aggfunc='mean')\n",
        "\n",
        "plt.figure(figsize=(14, 10))\n",
        "sns.heatmap(heatmap_data, cmap='viridis', annot=True, fmt=\".2f\", linewidths=.5)\n",
        "plt.title('사고 발생시간과 법규위반에 따른 ECLO 평균')\n",
        "plt.xlabel('법규위반')\n",
        "plt.ylabel('사고발생시간')\n",
        "plt.show()\n"
      ],
      "metadata": {
        "id": "gvYj5gQ4HjSJ"
      },
      "execution_count": null,
      "outputs": []
    }
  ]
}