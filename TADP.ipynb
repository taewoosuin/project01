{
  "cells": [
    {
      "cell_type": "markdown",
      "metadata": {
        "id": "ed1WX84Oe37e"
      },
      "source": [
        "#사전 작업"
      ]
    },
    {
      "cell_type": "code",
      "source": [
        "!pip install shap"
      ],
      "metadata": {
        "id": "NARrFjl6W_8j"
      },
      "execution_count": null,
      "outputs": []
    },
    {
      "cell_type": "code",
      "execution_count": 1,
      "metadata": {
        "colab": {
          "base_uri": "https://localhost:8080/"
        },
        "id": "ysWrrU0Le2WD",
        "outputId": "747d1e86-6b19-4baa-feb4-5a665b42c088"
      },
      "outputs": [
        {
          "output_type": "stream",
          "name": "stdout",
          "text": [
            "Mounted at /content/drive\n"
          ]
        }
      ],
      "source": [
        "from google.colab import drive\n",
        "drive.mount('/content/drive')"
      ]
    },
    {
      "cell_type": "markdown",
      "metadata": {
        "id": "yHE-2bvoe8qf"
      },
      "source": [
        "#데이터 전처리\n"
      ]
    },
    {
      "cell_type": "code",
      "execution_count": 84,
      "metadata": {
        "id": "UcgExl3dNjB9"
      },
      "outputs": [],
      "source": [
        "#import 및 파일 불러오기\n",
        "import pandas as pd\n",
        "import numpy as np\n",
        "from sklearn.model_selection import train_test_split\n",
        "from sklearn.ensemble import GradientBoostingRegressor\n",
        "from sklearn.preprocessing import MinMaxScaler\n",
        "from scipy import stats\n",
        "import re\n",
        "import matplotlib.pyplot as plt\n",
        "from sklearn.metrics import r2_score, mean_squared_error, mean_absolute_error, mean_squared_log_error\n",
        "\n",
        "# 파일 경로 설정\n",
        "file_path = \"/content/drive/MyDrive/Colab Notebooks/01 DATA/accidentInfoList.CSV\"\n",
        "\n",
        "# 데이터 불러오기\n",
        "df = pd.read_csv(file_path, encoding='cp949')\n",
        "\n"
      ]
    },
    {
      "cell_type": "code",
      "execution_count": 85,
      "metadata": {
        "id": "sE6suEWSAUr_"
      },
      "outputs": [],
      "source": [
        "# 숫자 추출 함수 생성\n",
        "def extract_numbers_from_age(age):\n",
        "    numbers = re.findall(r'\\d+', str(age))\n",
        "    if numbers:\n",
        "        return int(numbers[0])\n",
        "    else:\n",
        "        return np.nan\n",
        "\n",
        "# '가해운전자 연령' 및 '피해운전자 연령'에서 숫자만 추출\n",
        "df['가해운전자 연령'] = df['가해운전자 연령'].apply(extract_numbers_from_age)\n",
        "df['피해운전자 연령'] = df['피해운전자 연령'].apply(extract_numbers_from_age)\n",
        "\n",
        "# 결측치 처리\n",
        "mean_age_driver = round(df['가해운전자 연령'].mean(), 1)\n",
        "mean_age_victim = round(df['피해운전자 연령'].mean(), 1)\n",
        "df['가해운전자 연령'].fillna(mean_age_driver, inplace=True)\n",
        "df['피해운전자 연령'].fillna(mean_age_victim, inplace=True)\n",
        "df['피해운전자 차종'].fillna('기타불명', inplace=True)\n",
        "df['피해운전자 성별'].fillna('기타불명', inplace=True)"
      ]
    },
    {
      "cell_type": "code",
      "execution_count": 86,
      "metadata": {
        "id": "mNBXVK6E4FfA"
      },
      "outputs": [],
      "source": [
        "# 피처 엔지니어링\n",
        "\n",
        "# 'ECLO' 피처 생성\n",
        "df['ECLO'] = df['사망자수'] * 10 + df['중상자수'] * 5 + df['경상자수'] * 3 + df['부상신고자수'] * 1\n",
        "df.drop(columns=['사망자수', '경상자수', '중상자수', '부상신고자수'], inplace=True)\n",
        "\n",
        "# '사고일시'에서 시간 정보 추출\n",
        "df['사고일시'] = pd.to_datetime(df['사고일시'], format='%Y년 %m월 %d일 %H시')\n",
        "df['사고발생시간'] = df['사고일시'].dt.hour\n",
        "df.drop(columns=['사고일시'], inplace=True)\n",
        "\n",
        "# 피처 제거\n",
        "df.drop(columns=['사고번호', '시군구','사고내용'], inplace=True)"
      ]
    },
    {
      "cell_type": "code",
      "execution_count": 87,
      "metadata": {
        "id": "gI0wTI-RVGyP"
      },
      "outputs": [],
      "source": [
        "#범주형 데이터 처리\n",
        "\n",
        "# 요일을 평일/주말로 변환\n",
        "def categorize_weekday(weekday):\n",
        "    if weekday in ['월요일', '화요일', '수요일', '목요일', '금요일']:\n",
        "        return '평일'\n",
        "    else:\n",
        "        return '주말'\n",
        "\n",
        "df['평일/주말'] = df['요일'].apply(categorize_weekday)\n",
        "df.drop(columns=['요일'], inplace=True)\n",
        "\n",
        "# 사고발생시간을 주간/야간으로 변환\n",
        "def recategorize_time_of_day(hour):\n",
        "    if 21 <= hour <= 24 or 0 <= hour < 6:\n",
        "        return '야간'\n",
        "    else:\n",
        "        return '주간'\n",
        "\n",
        "df['시간대'] = df['사고발생시간'].apply(recategorize_time_of_day)\n",
        "df.drop(columns=['사고발생시간'], inplace=True)\n",
        "\n",
        "# 연령대로 범주화\n",
        "def categorize_age(age):\n",
        "    if age <= 19:\n",
        "        return '미성년층'\n",
        "    elif 20 <= age <= 45:\n",
        "        return '청년층'\n",
        "    elif 46 <= age <= 60:\n",
        "        return '중장년층'\n",
        "    else:\n",
        "        return '노년층'\n",
        "\n",
        "df['가해운전자 연령대'] = df['가해운전자 연령'].apply(categorize_age)\n",
        "df.drop(columns=['가해운전자 연령'], inplace=True)\n",
        "df['피해운전자 연령대'] = df['피해운전자 연령'].apply(categorize_age)\n",
        "df.drop(columns=['피해운전자 연령'], inplace=True)\n",
        "\n",
        "# 노면상태 범주화\n",
        "dangerous_conditions = ['서리/결빙', '적설', '침수', '해빙', '기타']\n",
        "df['노면상태_위험도'] = df['노면상태'].apply(lambda x: '위험(적설, 침수)' if x in dangerous_conditions else x)\n",
        "df.drop(columns=['노면상태'], inplace=True)\n",
        "\n",
        "#기상상태 범주화\n",
        "df['기상상태_위험도'] = df['기상상태'].apply(lambda x: '매우 위험(안개, 눈)' if x in ['안개', '눈'] else ('위험(비, 흐림)' if x in ['비', '흐림'] else x))\n",
        "df.drop(columns=['기상상태'], inplace=True)\n",
        "\n",
        "# 가해운전자 차종 범주화\n",
        "large_vehicle_types = ['건설기계', '승용', '승합', '특수', '화물', '농기계']\n",
        "small_vehicle_types = ['개인형이동수단(PM)', '기타불명', '사륜오토바이(ATV)', '원동기', '이륜', '자전거']\n",
        "\n",
        "def classify_driver_vehicle_type(vehicle_type):\n",
        "    if vehicle_type in large_vehicle_types:\n",
        "        return '중대형'\n",
        "    elif vehicle_type in small_vehicle_types:\n",
        "        return '소형'\n",
        "    else:\n",
        "        return vehicle_type\n",
        "\n",
        "df['가해운전자 차종_분류'] = df['가해운전자 차종'].apply(classify_driver_vehicle_type)\n",
        "\n",
        "# 피해운전자 차종 범주화\n",
        "def classify_victim_vehicle_type(vehicle_type):\n",
        "    if vehicle_type in large_vehicle_types:\n",
        "        return '중대형'\n",
        "    elif vehicle_type in small_vehicle_types:\n",
        "        return '소형'\n",
        "    else:\n",
        "        return vehicle_type\n",
        "\n",
        "df['피해운전자 차종_분류'] = df['피해운전자 차종'].apply(classify_victim_vehicle_type)\n",
        "df.drop(columns=['가해운전자 차종', '피해운전자 차종'], inplace=True)\n",
        "\n",
        "\n"
      ]
    },
    {
      "cell_type": "code",
      "execution_count": 88,
      "metadata": {
        "id": "qDWxZwV2VlMg"
      },
      "outputs": [],
      "source": [
        "# 인코딩\n",
        "categorical_features = ['사고유형', '법규위반', '노면상태_위험도', '기상상태_위험도', '도로형태',\n",
        "                        '가해운전자 차종_분류', '가해운전자 성별', '피해운전자 차종_분류',\n",
        "                        '피해운전자 성별', '평일/주말', '시간대',\n",
        "                        '가해운전자 연령대', '피해운전자 연령대','가해운전자 상해정도', '피해운전자 상해정도']\n",
        "\n",
        "df = pd.get_dummies(df, columns=categorical_features)\n"
      ]
    },
    {
      "cell_type": "code",
      "execution_count": null,
      "metadata": {
        "id": "oPsq1B9FL7Sl"
      },
      "outputs": [],
      "source": [
        "# 이상치 제거\n",
        "z_scores = np.abs(stats.zscore(df['ECLO']))\n",
        "outliers = (z_scores > 3)\n",
        "df_no_outliers = df[~outliers]\n",
        "\n",
        "# MINMAX 스케일러 적용\n",
        "\n",
        "minmax_scaler = MinMaxScaler()\n",
        "eclo_minmax_scaled = minmax_scaler.fit_transform(df_no_outliers['ECLO'].values.reshape(-1, 1))\n",
        "df_no_outliers['ECLO_scaled'] = eclo_minmax_scaled"
      ]
    },
    {
      "cell_type": "markdown",
      "metadata": {
        "id": "90u27H-I4lFG"
      },
      "source": [
        "#데이터 분할"
      ]
    },
    {
      "cell_type": "code",
      "execution_count": 90,
      "metadata": {
        "id": "LjRi2X1QYc3a"
      },
      "outputs": [],
      "source": [
        "# 피처 선택\n",
        "features = ['사고유형_차대사람 - 기타', '사고유형_차대사람 - 길가장자리구역통행중', '사고유형_차대사람 - 보도통행중', '사고유형_차대사람 - 차도통행중', '사고유형_차대사람 - 횡단중', '사고유형_차대차 - 기타', '사고유형_차대차 - 정면충돌', '사고유형_차대차 - 추돌', '사고유형_차대차 - 측면충돌', '사고유형_차대차 - 후진중충돌', '사고유형_차량단독 - 공작물충돌', '사고유형_차량단독 - 기타', '사고유형_차량단독 - 도로외이탈 - 기타', '사고유형_차량단독 - 도로외이탈 - 추락', '사고유형_차량단독 - 전도전복 - 전도', '사고유형_차량단독 - 전도전복 - 전복', '사고유형_차량단독 - 주/정차차량 충돌', '법규위반_과속', '법규위반_교차로운행방법위반', '법규위반_기타', '법규위반_보행자보호의무위반', '법규위반_불법유턴', '법규위반_신호위반', '법규위반_안전거리미확보', '법규위반_안전운전불이행', '법규위반_중앙선침범', '법규위반_직진우회전진행방해', '법규위반_차로위반', '노면상태_위험도_건조', '노면상태_위험도_위험(적설, 침수)', '노면상태_위험도_젖음/습기', '기상상태_위험도_기타', '기상상태_위험도_맑음', '기상상태_위험도_매우 위험(안개, 눈)', '기상상태_위험도_위험(비, 흐림)', '도로형태_교차로 - 교차로부근', '도로형태_교차로 - 교차로안', '도로형태_교차로 - 교차로횡단보도내', '도로형태_기타 - 기타', '도로형태_단일로 - 고가도로위', '도로형태_단일로 - 교량', '도로형태_단일로 - 기타', '도로형태_단일로 - 지하차도(도로)내', '도로형태_단일로 - 터널', '도로형태_미분류 - 미분류', '도로형태_주차장 - 주차장', '가해운전자 차종_분류_소형', '가해운전자 차종_분류_중대형', '가해운전자 성별_기타불명', '가해운전자 성별_남', '가해운전자 성별_여', '피해운전자 차종_분류_보행자', '피해운전자 차종_분류_소형', '피해운전자 차종_분류_중대형', '피해운전자 성별_기타불명', '피해운전자 성별_남', '피해운전자 성별_여', '평일/주말_주말', '평일/주말_평일', '시간대_야간', '시간대_주간', '가해운전자 연령대_노년층', '가해운전자 연령대_미성년층', '가해운전자 연령대_중장년층', '가해운전자 연령대_청년층', '피해운전자 연령대_노년층', '피해운전자 연령대_미성년층', '피해운전자 연령대_중장년층', '피해운전자 연령대_청년층', '가해운전자 상해정도_경상', '가해운전자 상해정도_기타불명', '가해운전자 상해정도_부상신고', '가해운전자 상해정도_사망', '가해운전자 상해정도_상해없음', '가해운전자 상해정도_중상', '피해운전자 상해정도_경상', '피해운전자 상해정도_기타불명', '피해운전자 상해정도_부상신고', '피해운전자 상해정도_사망', '피해운전자 상해정도_상해없음', '피해운전자 상해정도_중상']"
      ]
    },
    {
      "cell_type": "code",
      "source": [
        "# 훈련 데이터 및 테스트 데이터 분할\n",
        "X = df_no_outliers[features]\n",
        "y = df_no_outliers['ECLO_scaled']\n",
        "X_train, X_test, y_train, y_test = train_test_split(X, y, test_size=0.2, random_state=42)"
      ],
      "metadata": {
        "id": "QeSinLpziIz6"
      },
      "execution_count": 91,
      "outputs": []
    },
    {
      "cell_type": "markdown",
      "source": [
        "#모델 훈련"
      ],
      "metadata": {
        "id": "iWSRFGYjiMnk"
      }
    },
    {
      "cell_type": "code",
      "source": [
        "from xgboost import XGBRegressor\n",
        "import matplotlib.pyplot as plt\n",
        "\n",
        "# 모델 훈련\n",
        "xgb_regressor = XGBRegressor(random_state=42)\n",
        "xgb_regressor.fit(X_train, y_train)\n",
        "\n",
        "# 모델 예측\n",
        "y_pred_train_xgb = xgb_regressor.predict(X_train)\n",
        "y_pred_test_xgb = xgb_regressor.predict(X_test)\n",
        "\n",
        "def evaluate_model_performance(model_name, y_train, y_pred_train, y_test, y_pred_test):\n",
        "    print(\"\\n{} 성능 평가:\".format(model_name))\n",
        "    print(\"훈련 세트 R2 점수:\", r2_score(y_train, y_pred_train))\n",
        "    print(\"테스트 세트 R2 점수:\", r2_score(y_test, y_pred_test))\n",
        "    print(\"훈련 세트 MSE:\", mean_squared_error(y_train, y_pred_train))\n",
        "    print(\"테스트 세트 MSE:\", mean_squared_error(y_test, y_pred_test))\n",
        "    print(\"훈련 세트 MAE:\", mean_absolute_error(y_train, y_pred_train))\n",
        "    print(\"테스트 세트 MAE:\", mean_absolute_error(y_test, y_pred_test))\n",
        "\n",
        "# 모델 평가\n",
        "evaluate_model_performance(\"XGBoost\", y_train, y_pred_train_xgb, y_test, y_pred_test_xgb)\n"
      ],
      "metadata": {
        "id": "VR5SfSDQSAVc"
      },
      "execution_count": null,
      "outputs": []
    },
    {
      "cell_type": "code",
      "source": [
        "from sklearn.model_selection import RandomizedSearchCV\n",
        "\n",
        "# XGBRegressor 모델 생성\n",
        "xgb_regressor = XGBRegressor(random_state=42)\n",
        "\n",
        "# 탐색할 하이퍼파라미터 공간 정의\n",
        "param_grid = {\n",
        "    'n_estimators': [100, 300, 500],\n",
        "    'max_depth': [3, 5, 7],\n",
        "    'learning_rate': [0.01, 0.05, 0.1],\n",
        "    'subsample': [0.5, 0.75, 1],\n",
        "    'colsample_bytree': [0.5, 0.75, 1],\n",
        "    'gamma': [0, 0.1, 0.2]\n",
        "}\n",
        "\n",
        "# 평가 지표 설정 (R2, MSE, MAE)\n",
        "scoring = {\n",
        "    'r2': make_scorer(r2_score),\n",
        "    'mse': make_scorer(mean_squared_error),\n",
        "    'mae': make_scorer(mean_absolute_error)\n",
        "}\n",
        "\n",
        "# 랜덤 서치 객체 생성\n",
        "random_search = RandomizedSearchCV(estimator=xgb_regressor,\n",
        "                                   param_distributions=param_grid,\n",
        "                                   n_iter=50,\n",
        "                                   scoring=scoring,\n",
        "                                   refit='r2',\n",
        "                                   cv=5,\n",
        "                                   verbose=1,\n",
        "                                   random_state=42)\n",
        "\n",
        "# 랜덤 서치를 통한 하이퍼파라미터 탐색\n",
        "random_search.fit(X_train, y_train)\n",
        "\n",
        "# 최적 모델\n",
        "best_xgb_model = random_search.best_estimator_\n",
        "\n",
        "# 테스트 세트 예측\n",
        "y_pred_train_xgb = best_xgb_model.predict(X_train)\n",
        "y_pred_test_xgb = best_xgb_model.predict(X_test)\n",
        "\n",
        "# 모델 평가\n",
        "evaluate_model_performance(\"Optimized XGBoost\", y_train, y_pred_train_xgb, y_test, y_pred_test_xgb)\n",
        "\n",
        "# 최적 파라미터 출력\n",
        "print(\"\\n최적 파라미터:\", random_search.best_params_)\n"
      ],
      "metadata": {
        "id": "uSQ3WSc97srl"
      },
      "execution_count": null,
      "outputs": []
    },
    {
      "cell_type": "code",
      "source": [
        "import shap\n",
        "\n",
        "# SHAP 값을 계산합니다.\n",
        "explainer = shap.Explainer(xgb_regressor, X_train)\n",
        "shap_values = explainer.shap_values(X_train)\n",
        "\n",
        "# 각 특성의 SHAP 값의 평균을 계산합니다.\n",
        "mean_abs_shap_values = np.mean(np.abs(shap_values), axis=0)\n",
        "\n",
        "# 특성 이름과 평균 SHAP 값을 매핑합니다.\n",
        "feature_names = X_train.columns.tolist()\n",
        "feature_importance = dict(zip(feature_names, mean_abs_shap_values))\n",
        "\n",
        "# 중요도를 내림차순으로 정렬합니다.\n",
        "sorted_feature_importance = sorted(feature_importance.items(), key=lambda x: x[1], reverse=True)\n",
        "\n",
        "# 중요도를 텍스트로 출력합니다.\n",
        "print(\"XGBoost 모델의 특성별 SHAP 중요도:\")\n",
        "for feature, importance in sorted_feature_importance:\n",
        "    print(f\"{feature}: {importance:.4f}\")\n"
      ],
      "metadata": {
        "colab": {
          "base_uri": "https://localhost:8080/"
        },
        "id": "jTLmMO43XasQ",
        "outputId": "6a641801-2628-401e-c299-493aeb7029d8"
      },
      "execution_count": 70,
      "outputs": [
        {
          "output_type": "stream",
          "name": "stderr",
          "text": [
            "100%|===================| 80729/81090 [04:08<00:01]       "
          ]
        },
        {
          "output_type": "stream",
          "name": "stdout",
          "text": [
            "XGBoost 모델의 특성별 SHAP 중요도:\n",
            "피해운전자 상해정도_중상: 0.0519\n",
            "피해운전자 차종_분류_중대형: 0.0430\n",
            "가해운전자 상해정도_경상: 0.0274\n",
            "피해운전자 상해정도_경상: 0.0242\n",
            "가해운전자 상해정도_중상: 0.0110\n",
            "평일/주말_주말: 0.0093\n",
            "가해운전자 차종_분류_소형: 0.0090\n",
            "사고유형_차대차 - 추돌: 0.0074\n",
            "가해운전자 상해정도_사망: 0.0064\n",
            "시간대_야간: 0.0060\n",
            "피해운전자 상해정도_부상신고: 0.0056\n",
            "가해운전자 상해정도_부상신고: 0.0036\n",
            "법규위반_보행자보호의무위반: 0.0032\n",
            "법규위반_신호위반: 0.0032\n",
            "가해운전자 상해정도_상해없음: 0.0029\n",
            "피해운전자 상해정도_상해없음: 0.0026\n",
            "피해운전자 상해정도_사망: 0.0021\n",
            "피해운전자 연령대_청년층: 0.0019\n",
            "피해운전자 차종_분류_보행자: 0.0019\n",
            "법규위반_안전운전불이행: 0.0018\n",
            "가해운전자 상해정도_기타불명: 0.0018\n",
            "피해운전자 연령대_미성년층: 0.0016\n",
            "피해운전자 연령대_중장년층: 0.0014\n",
            "도로형태_교차로 - 교차로안: 0.0013\n",
            "법규위반_중앙선침범: 0.0013\n",
            "가해운전자 연령대_청년층: 0.0013\n",
            "사고유형_차대차 - 측면충돌: 0.0012\n",
            "도로형태_단일로 - 기타: 0.0010\n",
            "피해운전자 성별_여: 0.0010\n",
            "가해운전자 성별_남: 0.0010\n",
            "피해운전자 연령대_노년층: 0.0009\n",
            "법규위반_안전거리미확보: 0.0009\n",
            "가해운전자 연령대_중장년층: 0.0009\n",
            "가해운전자 연령대_노년층: 0.0008\n",
            "사고유형_차량단독 - 기타: 0.0008\n",
            "사고유형_차대차 - 정면충돌: 0.0007\n",
            "가해운전자 연령대_미성년층: 0.0007\n",
            "피해운전자 차종_분류_소형: 0.0007\n",
            "피해운전자 성별_남: 0.0006\n",
            "도로형태_교차로 - 교차로부근: 0.0006\n",
            "사고유형_차대차 - 기타: 0.0006\n",
            "법규위반_교차로운행방법위반: 0.0005\n",
            "기상상태_위험도_맑음: 0.0005\n",
            "가해운전자 성별_여: 0.0005\n",
            "사고유형_차대차 - 후진중충돌: 0.0005\n",
            "도로형태_단일로 - 고가도로위: 0.0004\n",
            "노면상태_위험도_건조: 0.0004\n",
            "피해운전자 성별_기타불명: 0.0004\n",
            "법규위반_기타: 0.0004\n",
            "기상상태_위험도_위험(비, 흐림): 0.0004\n",
            "도로형태_기타 - 기타: 0.0004\n",
            "사고유형_차대사람 - 기타: 0.0004\n",
            "노면상태_위험도_젖음/습기: 0.0003\n",
            "사고유형_차대사람 - 횡단중: 0.0003\n",
            "가해운전자 성별_기타불명: 0.0003\n",
            "법규위반_불법유턴: 0.0003\n",
            "노면상태_위험도_위험(적설, 침수): 0.0003\n",
            "도로형태_교차로 - 교차로횡단보도내: 0.0002\n",
            "법규위반_차로위반: 0.0002\n",
            "도로형태_단일로 - 지하차도(도로)내: 0.0002\n",
            "도로형태_단일로 - 교량: 0.0002\n",
            "사고유형_차량단독 - 공작물충돌: 0.0002\n",
            "피해운전자 상해정도_기타불명: 0.0001\n",
            "도로형태_단일로 - 터널: 0.0001\n",
            "기상상태_위험도_기타: 0.0001\n",
            "사고유형_차대사람 - 길가장자리구역통행중: 0.0001\n",
            "법규위반_직진우회전진행방해: 0.0001\n",
            "사고유형_차대사람 - 차도통행중: 0.0001\n",
            "도로형태_주차장 - 주차장: 0.0001\n",
            "기상상태_위험도_매우 위험(안개, 눈): 0.0001\n",
            "법규위반_과속: 0.0001\n",
            "사고유형_차대사람 - 보도통행중: 0.0000\n",
            "사고유형_차량단독 - 전도전복 - 전도: 0.0000\n",
            "도로형태_미분류 - 미분류: 0.0000\n",
            "사고유형_차량단독 - 전도전복 - 전복: 0.0000\n",
            "사고유형_차량단독 - 도로외이탈 - 추락: 0.0000\n",
            "사고유형_차량단독 - 도로외이탈 - 기타: 0.0000\n",
            "사고유형_차량단독 - 주/정차차량 충돌: 0.0000\n",
            "가해운전자 차종_분류_중대형: 0.0000\n",
            "평일/주말_평일: 0.0000\n",
            "시간대_주간: 0.0000\n"
          ]
        }
      ]
    },
    {
      "cell_type": "markdown",
      "metadata": {
        "id": "ykD4Y8LHx-Gy"
      },
      "source": [
        "#SUB"
      ]
    },
    {
      "cell_type": "code",
      "execution_count": null,
      "metadata": {
        "id": "d-o0CIaDx7AQ"
      },
      "outputs": [],
      "source": [
        "print(df.columns.tolist())"
      ]
    },
    {
      "cell_type": "code",
      "source": [
        "print(df.head())"
      ],
      "metadata": {
        "id": "lole_iXK-MRA"
      },
      "execution_count": null,
      "outputs": []
    },
    {
      "cell_type": "code",
      "source": [
        "# 파일로 훈련결과 출력\n",
        "result_df = pd.DataFrame({\n",
        "    'Actual': y_test,\n",
        "    'Gradient Boosting Predicted': y_pred_test_gb\n",
        "})\n",
        "\n",
        "# CSV 파일로 저장\n",
        "result_df.to_csv('/content/drive/MyDrive/prediction_results.csv', index=False)\n"
      ],
      "metadata": {
        "id": "cCEvng1DIEzu"
      },
      "execution_count": 14,
      "outputs": []
    },
    {
      "cell_type": "code",
      "source": [
        "df.to_csv('/content/drive/MyDrive/Colab Notebooks/sample_data.csv', index=False)"
      ],
      "metadata": {
        "id": "1JViFkxL3VXY"
      },
      "execution_count": 83,
      "outputs": []
    },
    {
      "cell_type": "markdown",
      "metadata": {
        "id": "o-D6VTRP4k1P"
      },
      "source": [
        "#시각화 관련"
      ]
    },
    {
      "cell_type": "markdown",
      "metadata": {
        "id": "9U8h_7JALaAw"
      },
      "source": [
        "데이터탐색에 들어갈 자료 생성"
      ]
    },
    {
      "cell_type": "code",
      "execution_count": null,
      "metadata": {
        "id": "D9iJcAY1Fdop"
      },
      "outputs": [],
      "source": [
        "# 빈도표\n",
        "plt.figure(figsize=(16, 12))\n",
        "sns.countplot(x='피해운전자 연령', data=df, palette='viridis')\n",
        "plt.ylabel('빈도')\n",
        "plt.show()\n"
      ]
    },
    {
      "cell_type": "code",
      "execution_count": null,
      "metadata": {
        "id": "Gh4nOyj8KWrR"
      },
      "outputs": [],
      "source": [
        "# 커널 밀도 추정 그래프\n",
        "plt.figure(figsize=(10, 6))\n",
        "sns.kdeplot(data=df, x='사고발생시간', fill=True, color='skyblue')\n",
        "plt.title('사고발생시간별 분포')\n",
        "plt.xlabel('사고발생시간')\n",
        "plt.ylabel('밀도')\n",
        "plt.show()\n"
      ]
    },
    {
      "cell_type": "markdown",
      "metadata": {
        "id": "ZOc4PSD_LTYL"
      },
      "source": [
        "시각화에 들어갈 자료 생성"
      ]
    },
    {
      "cell_type": "code",
      "execution_count": null,
      "metadata": {
        "id": "nNDQx9Vw6Yy8"
      },
      "outputs": [],
      "source": [
        "# 사고내용별 ECLO\n",
        "avg_eclo_by_accident = df.groupby('시군구')['ECLO'].mean().reset_index()\n",
        "avg_eclo_all = df['ECLO'].mean()\n",
        "\n",
        "# 막대 그래프\n",
        "plt.figure(figsize=(12, 8))\n",
        "sns.barplot(x='시군구', y='ECLO', data=avg_eclo_by_accident, palette='viridis')\n",
        "plt.ylabel('평균 ECLO')\n",
        "plt.axhline(avg_eclo_all, color='r', linestyle='--', label='전체 평균 ECLO')\n",
        "plt.legend()\n",
        "plt.xticks(rotation=45)\n",
        "plt.tight_layout()\n",
        "plt.show()"
      ]
    },
    {
      "cell_type": "code",
      "execution_count": null,
      "metadata": {
        "id": "_sDSQTbJ646A"
      },
      "outputs": [],
      "source": [
        "def categorize_age(age):\n",
        "    if age <= 19:\n",
        "        return '0~19'\n",
        "    elif age <= 45:\n",
        "        return '20~45'\n",
        "    elif age <= 60:\n",
        "        return '46~60'\n",
        "    else:\n",
        "        return '61 이상'\n",
        "\n",
        "# 연령을 범주\n",
        "df['피해운전자 연령대'] = df['피해운전자 연령'].apply(categorize_age)\n",
        "\n",
        "# 사고내용별 ECLO\n",
        "avg_eclo_by_accident = df.groupby('피해운전자 연령대')['ECLO'].mean().reset_index()\n",
        "avg_eclo_all = df['ECLO'].mean()\n",
        "\n",
        "# 막대 그래프\n",
        "plt.figure(figsize=(12, 8))\n",
        "sns.barplot(x='피해운전자 연령대', y='ECLO', data=avg_eclo_by_accident, palette='viridis')\n",
        "plt.ylabel('평균 ECLO')\n",
        "plt.axhline(avg_eclo_all, color='r', linestyle='--', label='전체 평균 ECLO')\n",
        "plt.legend()\n",
        "plt.xticks(rotation=45)\n",
        "plt.tight_layout()\n",
        "plt.show()"
      ]
    },
    {
      "cell_type": "code",
      "execution_count": null,
      "metadata": {
        "id": "gvYj5gQ4HjSJ"
      },
      "outputs": [],
      "source": [
        "# 3가지 이상의 피처를 활용한 히트맵\n",
        "\n",
        "heatmap_data = df.pivot_table(index='사고발생시간', columns='법규위반', values='ECLO', aggfunc='mean')\n",
        "\n",
        "plt.figure(figsize=(14, 10))\n",
        "sns.heatmap(heatmap_data, cmap='viridis', annot=True, fmt=\".2f\", linewidths=.5)\n",
        "plt.title('사고 발생시간과 법규위반에 따른 ECLO 평균')\n",
        "plt.xlabel('법규위반')\n",
        "plt.ylabel('사고발생시간')\n",
        "plt.show()\n"
      ]
    }
  ],
  "metadata": {
    "colab": {
      "collapsed_sections": [
        "ykD4Y8LHx-Gy",
        "o-D6VTRP4k1P"
      ],
      "provenance": []
    },
    "kernelspec": {
      "display_name": "Python 3",
      "name": "python3"
    },
    "language_info": {
      "name": "python"
    }
  },
  "nbformat": 4,
  "nbformat_minor": 0
}