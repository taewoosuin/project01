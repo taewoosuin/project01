{
  "nbformat": 4,
  "nbformat_minor": 0,
  "metadata": {
    "colab": {
      "provenance": []
    },
    "kernelspec": {
      "name": "python3",
      "display_name": "Python 3"
    },
    "language_info": {
      "name": "python"
    }
  },
  "cells": [
    {
      "cell_type": "code",
      "source": [
        "from google.colab import drive\n",
        "drive.mount('/content/drive')"
      ],
      "metadata": {
        "colab": {
          "base_uri": "https://localhost:8080/"
        },
        "id": "dRkV2wzAV3ec",
        "outputId": "89d97cf8-8c15-4385-d19e-bb69b17a7f21"
      },
      "execution_count": null,
      "outputs": [
        {
          "output_type": "stream",
          "name": "stdout",
          "text": [
            "Mounted at /content/drive\n"
          ]
        }
      ]
    },
    {
      "cell_type": "markdown",
      "source": [
        "**MAIN**"
      ],
      "metadata": {
        "id": "NJcLoyruoFiq"
      }
    },
    {
      "cell_type": "code",
      "execution_count": 85,
      "metadata": {
        "id": "0kfj0rqRVy5B"
      },
      "outputs": [],
      "source": [
        "import pandas as pd\n",
        "import numpy as np\n",
        "import matplotlib.pyplot as plt\n",
        "import seaborn as sns\n",
        "import re\n",
        "plt.rc('font', family='NanumGothic')\n",
        "\n",
        "file_path = \"/content/drive/MyDrive/Colab Notebooks/01 DATA/accidentInfoList.CSV\"\n",
        "df = pd.read_csv(file_path, encoding='cp949')"
      ]
    },
    {
      "cell_type": "code",
      "source": [
        "#  미사용 피처 삭제\n",
        "df.drop(columns=['사고번호'], inplace=True)\n",
        "# '사고일시' 열을 변환\n",
        "df['사고일시'] = pd.to_datetime(df['사고일시'], format='%Y년 %m월 %d일 %H시')\n",
        "# '시군구' 피처에서 '구' 이전의 정보만 남기기\n",
        "df['시군구'] = df['시군구'].apply(lambda x: x.split(' ')[1])\\\n",
        "# ECLO 피처 생성\n",
        "df['ECLO'] = df['사망자수'] * 10 + df['중상자수'] * 5 + df['경상자수'] * 3 + df['부상신고자수'] * 1\n",
        "\n",
        "# 결측치 처리\n",
        "df['피해운전자 차종'].fillna('NaN', inplace=True)\n",
        "df['피해운전자 성별'].fillna('NaN', inplace=True)\n",
        "df['피해운전자 상해정도'].fillna('상해없음', inplace=True)\n"
      ],
      "metadata": {
        "id": "WXdbcio6Jwp2"
      },
      "execution_count": 86,
      "outputs": []
    },
    {
      "cell_type": "code",
      "source": [
        "# 숫자 추출 함수 생성\n",
        "def extract_numbers_from_age(age):\n",
        "    numbers = re.findall(r'\\d+', str(age))\n",
        "    if numbers:\n",
        "        return int(numbers[0])\n",
        "    else:\n",
        "        return np.nan\n",
        "\n",
        "# 문자 데이터 제거 및 숫자만 추출\n",
        "df['가해운전자 연령'] = df['가해운전자 연령'].apply(extract_numbers_from_age)\n",
        "df['피해운전자 연령'] = df['피해운전자 연령'].apply(extract_numbers_from_age)\n",
        "\n",
        "# 결측치를 평균으로 대체\n",
        "mean_age_driver = round(df['가해운전자 연령'].mean(), 1)\n",
        "mean_age_victim = round(df['피해운전자 연령'].mean(), 1)\n",
        "\n",
        "df['가해운전자 연령'].fillna(mean_age_driver, inplace=True)\n",
        "df['피해운전자 연령'].fillna(mean_age_victim, inplace=True)"
      ],
      "metadata": {
        "id": "EnDMlmLJR4cw"
      },
      "execution_count": 87,
      "outputs": []
    },
    {
      "cell_type": "markdown",
      "source": [
        "**SUB**"
      ],
      "metadata": {
        "id": "zUL7GQTxoBsJ"
      }
    },
    {
      "cell_type": "code",
      "source": [
        "print(df.columns.tolist())"
      ],
      "metadata": {
        "id": "TBycXaP8Xqgu"
      },
      "execution_count": null,
      "outputs": []
    },
    {
      "cell_type": "code",
      "source": [
        "print(df.head(20))"
      ],
      "metadata": {
        "id": "fP837OwQP--h",
        "colab": {
          "base_uri": "https://localhost:8080/"
        },
        "outputId": "f47264d4-ed86-44cd-81b0-3bfb608497c5"
      },
      "execution_count": 88,
      "outputs": [
        {
          "output_type": "stream",
          "name": "stdout",
          "text": [
            "                  사고일시   요일   시군구    사고내용  사망자수  중상자수  경상자수  부상신고자수  \\\n",
            "0  2020-01-01 00:00:00  수요일   양천구    경상사고     0     0     1       0   \n",
            "1  2020-01-01 00:00:00  수요일   노원구    경상사고     0     0     1       0   \n",
            "2  2020-01-01 01:00:00  수요일   용산구    경상사고     0     0     3       0   \n",
            "3  2020-01-01 01:00:00  수요일  영등포구    경상사고     0     0     1       0   \n",
            "4  2020-01-01 01:00:00  수요일   구로구    중상사고     0     2     3       0   \n",
            "5  2020-01-01 01:00:00  수요일   강서구    중상사고     0     2     2       0   \n",
            "6  2020-01-01 01:00:00  수요일   양천구    경상사고     0     0     3       0   \n",
            "7  2020-01-01 01:00:00  수요일   노원구    경상사고     0     0     4       0   \n",
            "8  2020-01-01 01:00:00  수요일   도봉구    경상사고     0     0     1       0   \n",
            "9  2020-01-01 02:00:00  수요일   강북구    경상사고     0     0     2       0   \n",
            "10 2020-01-01 03:00:00  수요일  동대문구    경상사고     0     0     1       0   \n",
            "11 2020-01-01 03:00:00  수요일   마포구  부상신고사고     0     0     0       1   \n",
            "12 2020-01-01 03:00:00  수요일   노원구    경상사고     0     0     1       0   \n",
            "13 2020-01-01 03:00:00  수요일   서초구    중상사고     0     1     0       0   \n",
            "14 2020-01-01 04:00:00  수요일   성북구    경상사고     0     0     1       0   \n",
            "15 2020-01-01 05:00:00  수요일   용산구    경상사고     0     0     2       0   \n",
            "16 2020-01-01 05:00:00  수요일   강남구    사망사고     1     0     0       0   \n",
            "17 2020-01-01 06:00:00  수요일    중구    경상사고     0     0     2       0   \n",
            "18 2020-01-01 07:00:00  수요일   관악구    경상사고     0     0     2       0   \n",
            "19 2020-01-01 07:00:00  수요일   강남구    경상사고     0     0     1       0   \n",
            "\n",
            "                 사고유형     법규위반  ...         도로형태 가해운전자 차종 가해운전자 성별 가해운전자 연령  \\\n",
            "0           차대사람 - 기타  안전운전불이행  ...     단일로 - 기타       이륜        남     56.0   \n",
            "1          차대차 - 측면충돌    중앙선침범  ...   교차로 - 교차로안       승용        남     21.0   \n",
            "2         차대차 - 후진중충돌  안전운전불이행  ...      기타 - 기타       승용        남     37.0   \n",
            "3           차대사람 - 기타  안전운전불이행  ...     단일로 - 기타       승용        남     54.0   \n",
            "4          차대사람 - 횡단중     신호위반  ...   교차로 - 교차로안       승용        남     23.0   \n",
            "5            차대차 - 기타  안전운전불이행  ...     단일로 - 기타       승용        남     40.0   \n",
            "6            차대차 - 추돌  안전운전불이행  ...   교차로 - 교차로안       승용        남     51.0   \n",
            "7            차대차 - 추돌  안전거리미확보  ...     단일로 - 기타       승용        남     48.0   \n",
            "8            차대차 - 기타  안전운전불이행  ...     단일로 - 기타       승용        남     62.0   \n",
            "9            차대차 - 추돌  안전운전불이행  ...  교차로 - 교차로부근       이륜        남     35.0   \n",
            "10           차대차 - 추돌  안전운전불이행  ...     단일로 - 기타       승용        남     35.0   \n",
            "11          차대사람 - 기타  안전운전불이행  ...     단일로 - 기타     기타불명     기타불명     48.2   \n",
            "12         차대사람 - 횡단중  안전운전불이행  ...     단일로 - 기타       승용        여     47.0   \n",
            "13  차대사람 - 길가장자리구역통행중  안전운전불이행  ...     단일로 - 기타       승용        여     48.0   \n",
            "14   차량단독 - 전도전복 - 전도  안전운전불이행  ...  교차로 - 교차로부근       이륜        남     37.0   \n",
            "15         차대차 - 측면충돌       기타  ...      기타 - 기타       승용        남     44.0   \n",
            "16       차대사람 - 차도통행중  안전운전불이행  ...     단일로 - 기타       승용        남     63.0   \n",
            "17         차대차 - 측면충돌     신호위반  ...   교차로 - 교차로안       승합        남     60.0   \n",
            "18           차대차 - 추돌  안전운전불이행  ...  교차로 - 교차로부근       승용        남     34.0   \n",
            "19           차대차 - 기타  안전운전불이행  ...     단일로 - 기타       승용        남     29.0   \n",
            "\n",
            "   가해운전자 상해정도  피해운전자 차종 피해운전자 성별 피해운전자 연령 피해운전자 상해정도  ECLO  \n",
            "0        상해없음       보행자        남     25.0         경상     3  \n",
            "1        상해없음        승용        남     53.0         경상     3  \n",
            "2        상해없음        승용        남     64.0       상해없음     9  \n",
            "3        상해없음       보행자        남     31.0         경상     3  \n",
            "4        상해없음       보행자        남     46.0         중상    19  \n",
            "5        상해없음        승용        남     71.0         중상    16  \n",
            "6        상해없음        승용        남     35.0         경상     9  \n",
            "7          경상        승용        남     39.0       상해없음    12  \n",
            "8        상해없음        승용     기타불명     45.2       기타불명     3  \n",
            "9        상해없음        승용        여     23.0         경상     6  \n",
            "10       상해없음        이륜        남     38.0         경상     3  \n",
            "11       기타불명       보행자        남     23.0       부상신고     1  \n",
            "12       상해없음       보행자        남     47.0         경상     3  \n",
            "13       상해없음       보행자        남     30.0         중상     5  \n",
            "14         경상       NaN      NaN     45.2       상해없음     3  \n",
            "15         경상        이륜        남     30.0         경상     6  \n",
            "16       상해없음       보행자        여     29.0         사망    10  \n",
            "17       상해없음        승용        남     43.0         경상     6  \n",
            "18       상해없음        승용        남     51.0         경상     6  \n",
            "19       상해없음        승용        남     41.0         경상     3  \n",
            "\n",
            "[20 rows x 22 columns]\n"
          ]
        }
      ]
    },
    {
      "cell_type": "code",
      "source": [
        "# 주어진 피처들을 범주형으로 변환 후 원-핫 인코딩\n",
        "categorical_features = ['요일', '시군구', '사고내용', '사고유형', '법규위반', '노면상태', '기상상태', '도로형태',\n",
        "                       '가해운전자 차종', '가해운전자 성별', '가해운전자 상해정도', '피해운전자 차종',\n",
        "                       '피해운전자 성별', '피해운전자 상해정도']\n",
        "\n",
        "# 각 피처들을 원-핫 인코딩하여 새로운 데이터프레임 생성\n",
        "encoded_df = pd.get_dummies(df[categorical_features])\n",
        "\n",
        "# 기존 데이터프레임에서 범주형 피처들 제거\n",
        "df = df.drop(columns=categorical_features)\n",
        "\n",
        "# 원-핫 인코딩된 데이터프레임과 기존 데이터프레임을 합침\n",
        "df = pd.concat([df, encoded_df], axis=1)\n"
      ],
      "metadata": {
        "id": "O2KZnK-uMOJx"
      },
      "execution_count": null,
      "outputs": []
    },
    {
      "cell_type": "code",
      "source": [
        "import pandas as pd\n",
        "from sklearn.model_selection import train_test_split\n",
        "from sklearn.ensemble import RandomForestRegressor\n",
        "from sklearn.metrics import mean_squared_error\n",
        "\n",
        "# 데이터 불러오기 및 전처리 (주어진 코드 활용)\n",
        "file_path = \"/content/drive/MyDrive/Colab Notebooks/01 DATA/accidentInfoList.CSV\"\n",
        "df = pd.read_csv(file_path, encoding='cp949')\n",
        "\n",
        "# 요일 추출\n",
        "categorical_features = ['요일']\n",
        "# 각 피처들을 원-핫 인코딩하여 새로운 데이터프레임 생성\n",
        "encoded_df = pd.get_dummies(df[categorical_features])\n",
        "# 기존 데이터프레임에서 범주형 피처들 제거\n",
        "df = df.drop(columns=categorical_features)\n",
        "# 원-핫 인코딩된 데이터프레임과 기존 데이터프레임을 합침\n",
        "df = pd.concat([df, encoded_df], axis=1)\n",
        "\n",
        "# ECLO 계산\n",
        "df['ECLO'] = df['사망자수'] * 10 + df['중상자수'] * 5 + df['경상자수'] * 3 + df['부상신고자수'] * 1\n",
        "\n",
        "# 필요한 피처 및 타겟 데이터 선택\n",
        "X = df[['요일_금요일', '요일_목요일', '요일_수요일', '요일_월요일', '요일_일요일', '요일_토요일', '요일_화요일']]\n",
        "y = df['ECLO']\n",
        "\n",
        "# 훈련 세트와 테스트 세트로 데이터 분할\n",
        "X_train, X_test, y_train, y_test = train_test_split(X, y, test_size=0.2, random_state=42)\n",
        "\n",
        "# 랜덤 포레스트 회귀 모델 생성 및 훈련\n",
        "model = RandomForestRegressor(n_estimators=100, random_state=42)\n",
        "model.fit(X_train, y_train)\n",
        "\n",
        "# 모델 평가\n",
        "y_pred = model.predict(X_test)\n",
        "rmse = mean_squared_error(y_test, y_pred, squared=False)\n",
        "print(\"RMSE:\", rmse)\n"
      ],
      "metadata": {
        "colab": {
          "base_uri": "https://localhost:8080/"
        },
        "id": "3DVeTCDfmbBq",
        "outputId": "8aedde69-c24e-41d4-c4ad-9467e7748b71"
      },
      "execution_count": null,
      "outputs": [
        {
          "output_type": "stream",
          "name": "stdout",
          "text": [
            "RMSE: 2.9209614133743234\n"
          ]
        }
      ]
    },
    {
      "cell_type": "code",
      "source": [
        "#저장\n",
        "output_file_path = \"/content/drive/MyDrive/Colab Notebooks/01 DATA/modified_accidentInfoList.csv\"\n",
        "df.to_csv(output_file_path, index=False)"
      ],
      "metadata": {
        "id": "G49gstF3LFOK"
      },
      "execution_count": 84,
      "outputs": []
    }
  ]
}